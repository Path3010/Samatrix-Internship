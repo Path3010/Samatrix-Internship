{
  "nbformat": 4,
  "nbformat_minor": 0,
  "metadata": {
    "colab": {
      "provenance": []
    },
    "kernelspec": {
      "name": "python3",
      "display_name": "Python 3"
    },
    "language_info": {
      "name": "python"
    }
  },
  "cells": [
    {
      "cell_type": "code",
      "execution_count": null,
      "metadata": {
        "id": "9VkqZEEaXRWO"
      },
      "outputs": [],
      "source": [
        "import numpy as np\n",
        "import pandas as pd\n",
        "import matplotlib.pyplot as plt\n",
        "import seaborn as sns\n",
        "from scipy import stats"
      ]
    },
    {
      "cell_type": "markdown",
      "source": [
        "<h3><b>1. Expected Shortfall</b></h3>\n",
        "\n",
        "<p>\n",
        "ES = (ϕ(z) / (1 − α)) ⋅ σ\n",
        "</p>\n",
        "\n",
        "<ul>\n",
        "  <li><b>ϕ(z)</b> = PDF at z</li>\n",
        "  <li><b>α</b> = Confidence Interval</li>\n",
        "  <li><b>σ</b> = Standard Deviation</li>\n",
        "</ul>\n"
      ],
      "metadata": {
        "id": "YWBZNhZaAJ8x"
      }
    },
    {
      "cell_type": "code",
      "source": [
        "# Q1. Given a portfolio’s VaR at 95% confidence is 10,000, compute the Expected Shortfall (ES) if the tail loss distribution follows a normal distribution.\n",
        "# ES: Average loss in worst cases\n",
        "var = 10000\n",
        "ci = 0.95\n",
        "\n",
        "# Z-score\n",
        "z = stats.norm.ppf(ci)\n",
        "\n",
        "# Standard deviantion (From: VaR = mu + sigma * z)\n",
        "sigma = var / z\n",
        "\n",
        "# Probability density function at z score\n",
        "phi_z = stats.norm.pdf(z)\n",
        "\n",
        "# Espected Shortfall\n",
        "ES = phi_z / (1 - ci) * sigma\n",
        "\n",
        "print(f\"Espected Shortfall: {ES:.2f}\")"
      ],
      "metadata": {
        "colab": {
          "base_uri": "https://localhost:8080/"
        },
        "id": "kfUMGZCrYwXw",
        "outputId": "f84b12ab-da52-4ae7-b5ab-ad2e1e602f82"
      },
      "execution_count": null,
      "outputs": [
        {
          "output_type": "stream",
          "name": "stdout",
          "text": [
            "Espected Shortfall: 12540.40\n"
          ]
        }
      ]
    },
    {
      "cell_type": "markdown",
      "source": [
        "**Conclusion**: The average loss in worst 5% of the cases is about 12540.40"
      ],
      "metadata": {
        "id": "ijMD_yn1iqSI"
      }
    },
    {
      "cell_type": "markdown",
      "source": [
        "<h3><b>2. Sharpe Ratio</b></h3>\n",
        "\n",
        "<p>\n",
        "Sharpe Ratio = (Expected Return − Risk-Free Rate) / σ\n",
        "</p>\n",
        "\n",
        "<ul>\n",
        "  <li><b>Expected Return</b> = Portfolio's average return</li>\n",
        "  <li><b>Risk-Free Rate</b> = Return of a risk-free asset</li>\n",
        "  <li><b>σ</b> = Standard Deviation (risk)</li>\n",
        "</ul>\n"
      ],
      "metadata": {
        "id": "0RRj7GNTBg7a"
      }
    },
    {
      "cell_type": "code",
      "source": [
        "# Q2. A portfolio has an expected annual return of 12%, a risk-free rate of 2%, and a standard deviation of 18%. Compute the Sharpe Ratio.\n",
        "# Sharpe Ratio: Calculates how much more return we get for each unit risk\n",
        "expected_return = 0.12\n",
        "risk_free_rate = 0.02\n",
        "std = 0.18\n",
        "\n",
        "# Sharpe Ratio\n",
        "sharpe_ratio = (expected_return - risk_free_rate) / std\n",
        "\n",
        "print(f\"Sharpe Ratio: {sharpe_ratio:.2f}\")"
      ],
      "metadata": {
        "colab": {
          "base_uri": "https://localhost:8080/"
        },
        "id": "ljHGuE-diIhe",
        "outputId": "f081dda8-a468-44fb-c098-3ea3bf6bc55d"
      },
      "execution_count": null,
      "outputs": [
        {
          "output_type": "stream",
          "name": "stdout",
          "text": [
            "Sharpe Ratio: 0.56\n"
          ]
        }
      ]
    },
    {
      "cell_type": "markdown",
      "source": [
        "**Conclusion**: A Sharpe Ratio of 0.56 means you're earning 0.56 units of excess return for each unit of risk taken"
      ],
      "metadata": {
        "id": "iNG-Wb9AlheF"
      }
    },
    {
      "cell_type": "markdown",
      "source": [
        "<h3><b>3. Monte Carlo Simulated Return</b></h3>\n",
        "\n",
        "<p>\n",
        "Simulated Return = μ &times; t + σ &times; √t &times; z\n",
        "</p>\n",
        "\n",
        "<ul>\n",
        "  <li><b>μ</b> = Mean (expected) return</li>\n",
        "  <li><b>σ</b> = Volatility (standard deviation of returns)</li>\n",
        "  <li><b>t</b> = Time horizon (in years)</li>\n",
        "  <li><b>z</b> = Random number from standard normal distribution (𝒩(0,1))</li>\n",
        "</ul>"
      ],
      "metadata": {
        "id": "GDQ9sVn1BgbX"
      }
    },
    {
      "cell_type": "code",
      "source": [
        "# Q3. Given mean return = 7%, volatility = 12%, and time horizon = 1 year, simulate one possible future portfolio return using a Monte Carlo model.\n",
        "# Monte Carlo Model: Helps by calculating future outcomes by randomness\n",
        "np.random.seed(42)\n",
        "mu = 0.07\n",
        "sigma = 0.12\n",
        "t = 1     #1 year time\n",
        "\n",
        "z = np.random.randn()\n",
        "\n",
        "simulated_return = mu * t + sigma * np.sqrt(t) * z\n",
        "print(f\"Normal Distribution: {z:.2f}\")\n",
        "print(f\"Simulated Future Return: {simulated_return * 100:.2f}%\")"
      ],
      "metadata": {
        "colab": {
          "base_uri": "https://localhost:8080/"
        },
        "id": "oYYYD6TalYis",
        "outputId": "c8676f35-e8fc-46d0-b839-eab113ef5298"
      },
      "execution_count": null,
      "outputs": [
        {
          "output_type": "stream",
          "name": "stdout",
          "text": [
            "Normal Distribution: 0.50\n",
            "Simulated Future Return: 12.96%\n"
          ]
        }
      ]
    },
    {
      "cell_type": "markdown",
      "source": [
        "**Conclusion**: Future returns in this case are 12.96% for z = 0.50. We can simulate different outcomes if the np.random.seed(42) is removed."
      ],
      "metadata": {
        "id": "eJ5jNa_onZqJ"
      }
    },
    {
      "cell_type": "code",
      "source": [],
      "metadata": {
        "id": "nYkA8GOKoK13"
      },
      "execution_count": null,
      "outputs": []
    }
  ]
}