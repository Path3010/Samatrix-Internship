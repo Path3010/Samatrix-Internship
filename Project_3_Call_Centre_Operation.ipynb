{
  "nbformat": 4,
  "nbformat_minor": 0,
  "metadata": {
    "colab": {
      "provenance": []
    },
    "kernelspec": {
      "name": "python3",
      "display_name": "Python 3"
    },
    "language_info": {
      "name": "python"
    }
  },
  "cells": [
    {
      "cell_type": "code",
      "source": [
        "import numpy as np\n",
        "import pandas as pd\n",
        "import matplotlib.pyplot as plt"
      ],
      "metadata": {
        "id": "HEDe9kQjkJO2"
      },
      "execution_count": 45,
      "outputs": []
    },
    {
      "cell_type": "code",
      "source": [
        "#arrival and service rate\n",
        "lamb = 20\n",
        "mu =5\n",
        "shift_hours =8\n",
        "\n",
        "np.random.seed(1)"
      ],
      "metadata": {
        "id": "k0OJotFtkNRj"
      },
      "execution_count": 46,
      "outputs": []
    },
    {
      "cell_type": "markdown",
      "source": [
        "Defines the key queueing parameters and random seed:  \n",
        "* `lamb = 20` → average **arrival rate** (calls/hour)  \n",
        "* `mu   = 5`  → average **service rate** (calls handled per agent per hour)  \n",
        "* `shift_hours = 8` → length of the working shift  \n",
        "* `np.random.seed(1)` → fixes the random sequence so every run is reproducible."
      ],
      "metadata": {
        "id": "n8OOa9rwmmEX"
      }
    },
    {
      "cell_type": "code",
      "source": [
        "# Simulate exponential data\n",
        "inter = np.random.exponential(1 / lamb, int(lamb * shift_hours * 1.5))\n",
        "arrivals = np.cumsum(inter)\n",
        "arrivals = arrivals[arrivals < shift_hours]\n",
        "N = len(arrivals)\n",
        "\n",
        "# Create random service time\n",
        "service = np.random.exponential(1 / mu, N)"
      ],
      "metadata": {
        "id": "aUbQ42DpkVS-"
      },
      "execution_count": 47,
      "outputs": []
    },
    {
      "cell_type": "markdown",
      "source": [
        "Creates the raw data for the shift:  \n",
        "1. Generates exponentially-distributed inter-arrival times, then converts them to **absolute arrival times** that fall inside the 8-hour window (`arrivals`).  \n",
        "2. Counts how many calls actually arrive (`N`).  \n",
        "3. Generates **service times** for each of those calls, also from an exponential distribution.  \n",
        "The result is two aligned arrays—`arrivals` and `service`—that will drive every later simulation.\n"
      ],
      "metadata": {
        "id": "rmW_3WRImqMc"
      }
    },
    {
      "cell_type": "code",
      "source": [
        "def simulate_queue(s):\n",
        "    next_free = np.zeros(s)\n",
        "    wait_times = np.zeros(N)\n",
        "    system_size = np.zeros(N)\n",
        "    dep_time = []\n",
        "\n",
        "    for i, t in enumerate(arrivals):\n",
        "        j = np.argmin(next_free)\n",
        "        start = max(t, next_free[j])\n",
        "        wait_times[i] = start - t\n",
        "        end = start + service[i]\n",
        "        next_free[j] = end\n",
        "        dep_time.append(end)\n",
        "        system_size[i] = np.sum(np.array(dep_time) > t)\n",
        "\n",
        "    return wait_times, system_size\n",
        "\n",
        "\n",
        "wait_times_5_agents, system_size_5_agents = simulate_queue(5)\n",
        "print(\"Average wait time:\", np.mean(wait_times_5_agents))\n",
        "print(\"Average system size:\", np.mean(system_size_5_agents))"
      ],
      "metadata": {
        "colab": {
          "base_uri": "https://localhost:8080/"
        },
        "id": "PHpbOmGZk0wf",
        "outputId": "6d6fcf6e-f754-425e-8371-5740fe52d8d4"
      },
      "execution_count": 48,
      "outputs": [
        {
          "output_type": "stream",
          "name": "stdout",
          "text": [
            "Average wait time: 0.08422684260138112\n",
            "Average system size: 6.815950920245399\n"
          ]
        }
      ]
    },
    {
      "cell_type": "markdown",
      "source": [
        "* Builds a function `simulate_queue(s)` that models an **M/M/s** queue (multi-server, exponential arrivals & service).  \n",
        "  * Tracks the next free time of each agent, waiting time for each caller, and instantaneous system size.  \n",
        "* Immediately calls the function with `s = 5` agents and prints:  \n",
        "  * **Average wait time** for callers.  \n",
        "  * **Average number in system** (calls waiting + in service).  "
      ],
      "metadata": {
        "id": "J6jhVxaEmv4I"
      }
    },
    {
      "cell_type": "code",
      "source": [
        "rho = lamb / mu\n",
        "l_analytic=rho/(1-rho)\n",
        "w_analytic=l_analytic/lamb\n",
        "print(\"Average wait time:\", w_analytic)\n",
        "print(\"Average system size:\", l_analytic)"
      ],
      "metadata": {
        "colab": {
          "base_uri": "https://localhost:8080/"
        },
        "id": "otg1Nc0ak1aM",
        "outputId": "60adfe96-f028-4688-ceae-778188b6b73d"
      },
      "execution_count": 49,
      "outputs": [
        {
          "output_type": "stream",
          "name": "stdout",
          "text": [
            "Average wait time: -0.06666666666666667\n",
            "Average system size: -1.3333333333333333\n"
          ]
        }
      ]
    },
    {
      "cell_type": "markdown",
      "source": [
        "Calculates classic **M/M/1** formulas using ρ = λ / μ, giving:  \n",
        "* **Average number in system**  \\(L = ρ / (1 − ρ)\\)  \n",
        "* **Average wait time**         \\(W = L / λ\\)  "
      ],
      "metadata": {
        "id": "PcgoRioHm1DQ"
      }
    },
    {
      "cell_type": "code",
      "source": [
        "threshold=5\n",
        "results=[]\n",
        "for s in range(1,6):\n",
        "  w,q=simulate_queue(s)\n",
        "  waits_min=w*60\n",
        "  p95_wait=np.percentile(waits_min,95)\n",
        "  results.append((s,waits_min.mean(),p95_wait,q.mean()))\n",
        "df=pd.DataFrame(results,columns=['Agents','Avg wait(min)','95th pct wait(min)','Avg system size'])\n",
        "print(df)\n",
        "good=df[df['95th pct wait(min)']<=threshold]\n",
        "if not good.empty:\n",
        "  best_s=int(good.iloc[0]['Agents'])\n",
        "  print(f\"Schedule at least {best_s} agents to keep 95% of waits<={threshold}min.\")\n",
        "else:\n",
        "  print(\"Even 5 agents can't meet the 5 min \")"
      ],
      "metadata": {
        "colab": {
          "base_uri": "https://localhost:8080/"
        },
        "id": "SZbvgBEYk4hB",
        "outputId": "ac5b32fb-efb3-4105-9767-6f81532d5a5f"
      },
      "execution_count": 50,
      "outputs": [
        {
          "output_type": "stream",
          "name": "stdout",
          "text": [
            "   Agents  Avg wait(min)  95th pct wait(min)  Avg system size\n",
            "0       1     808.232100         1488.275544        65.993865\n",
            "1       2     284.004529          520.338714        49.042945\n",
            "2       3     109.126322          191.268183        29.423313\n",
            "3       4      23.259675           39.865347        11.846626\n",
            "4       5       5.053611           15.062201         6.815951\n",
            "Even 5 agents can't meet the 5 min \n"
          ]
        }
      ]
    },
    {
      "cell_type": "markdown",
      "source": [
        "Loops over agent counts **1 → 5** and records for each:  \n",
        "* Mean wait (minutes)  \n",
        "* 95th-percentile wait (minutes)  \n",
        "* Mean system size  "
      ],
      "metadata": {
        "id": "1NngmV7Sm530"
      }
    },
    {
      "cell_type": "code",
      "source": [
        "plt.figure(figsize=(8, 4))\n",
        "for s in[1,2,3,4,5]:\n",
        "  w,_=simulate_queue(s)\n",
        "  plt.hist(w*60,bins=60,alpha=0.5,label=f'{s} agents')\n",
        "plt.axvline(threshold,color='k',linestyle='--',label='5 min target')\n",
        "plt.xlabel('Wait Time (min)')\n",
        "plt.ylabel('Frequency')\n",
        "plt.legend()\n",
        "plt.show()"
      ],
      "metadata": {
        "colab": {
          "base_uri": "https://localhost:8080/",
          "height": 388
        },
        "id": "GK3-dIkrk6md",
        "outputId": "8ac24017-366d-4e90-f589-87c4bceeba43"
      },
      "execution_count": 51,
      "outputs": [
        {
          "output_type": "display_data",
          "data": {
            "text/plain": [
              "<Figure size 800x400 with 1 Axes>"
            ],
            "image/png": "[encoded data removed]"
          },
          "metadata": {}
        }
      ]
    },
    {
      "cell_type": "markdown",
      "source": [
        "Draws overlapping histograms of **wait times** (in minutes) for 1–5 agents and marks the 5-minute service-level target with a dashed vertical line. This visualises how adding agents shifts the entire wait-time distribution."
      ],
      "metadata": {
        "id": "9YPE0NrJm9It"
      }
    },
    {
      "cell_type": "code",
      "source": [
        "# Time varying\n",
        "def simulate_queue_timevarying(s):\n",
        "  periods=[(0,2,30),(2,6,20),(6,8,40)]\n",
        "  arrival=[]\n",
        "  for start,end,lam in periods:\n",
        "    duration=end-start\n",
        "    inter=np.random.exponential(1/lam,int(lam*duration*1.5))\n",
        "    ts=np.cumsum(inter)+start\n",
        "    arrival.extend(ts[ts<end])\n",
        "\n",
        "  arrivals = np.array(arrival)\n",
        "\n",
        "  arrivals.sort()\n",
        "  N=len(arrivals)\n",
        "  service=np.random.exponential(1/mu,N)\n",
        "  next_free=np.zeros(s)\n",
        "  wait_times=np.zeros(N)\n",
        "  for i,t in enumerate(arrivals):\n",
        "    j=np.argmin(next_free)\n",
        "    start=max(t,next_free[j])\n",
        "    wait_times[i]=start-t\n",
        "    next_free[j]=start+service[i]\n",
        "  return wait_times\n",
        "w_tv=simulate_queue_timevarying(5)\n",
        "print(\"Average wait time(min):\",w_tv.mean()*60)"
      ],
      "metadata": {
        "colab": {
          "base_uri": "https://localhost:8080/"
        },
        "id": "aNvpnZo9k8Sb",
        "outputId": "5926924a-9bfa-4933-fb3f-17d37a3ba342"
      },
      "execution_count": 52,
      "outputs": [
        {
          "output_type": "stream",
          "name": "stdout",
          "text": [
            "Average wait time(min): 28.94050166996809\n"
          ]
        }
      ]
    },
    {
      "cell_type": "markdown",
      "source": [
        "This imulates a more realistic scenario where the number of incoming calls changes over time. The function `simulate_queue_timevarying(s)` breaks the 8-hour shift into three time blocks, each with a different arrival rate:\n",
        "\n",
        "| Time Period (hours) | Call Arrival Rate (λ) |\n",
        "|---------------------|------------------------|\n",
        "| 0–2 hours           | 30 calls/hour          |\n",
        "| 2–6 hours           | 20 calls/hour          |\n",
        "| 6–8 hours           | 40 calls/hour          |\n",
        "\n",
        "The simulation is run using **5 agents**, and it calculates the **average customer wait time** (in minutes).  \n",
        "This setup helps to understand how well the call center can handle busy and quiet periods throughout the day, and how fluctuations in call volume impact the overall customer experience."
      ],
      "metadata": {
        "id": "KELhOG3snBbI"
      }
    },
    {
      "cell_type": "code",
      "source": [
        "# Customer abondenment\n",
        "def simulate_with_abandon(s,patience=5/60):\n",
        "  arrivals=np.cumsum(np.random.exponential(1/lamb,int(lamb*shift_hours*1.5)))\n",
        "  arrivals=arrivals[arrivals<shift_hours]\n",
        "  service=np.random.exponential(1/mu,len(arrivals))\n",
        "  next_free=np.zeros(s)\n",
        "  abandons=0\n",
        "  waits=[]\n",
        "  for i,t in enumerate(arrivals):\n",
        "    j=np.argmin(next_free)\n",
        "    start=max(t,next_free[j])\n",
        "    wait=start-t\n",
        "    if wait>=patience:\n",
        "      abandons=abandons+1\n",
        "    else:\n",
        "      waits.append(wait)\n",
        "      next_free[j]=start+service[i]\n",
        "  return np.array(waits),abandons/len(arrivals)\n",
        "waits,abandonment=simulate_with_abandon(5)\n",
        "print(\"Average wait time(min):\",waits.mean()*60)\n",
        "print(\"Abandonment rate:\",abandonment)"
      ],
      "metadata": {
        "colab": {
          "base_uri": "https://localhost:8080/"
        },
        "id": "7XUi4ohIk_wF",
        "outputId": "e9c04963-8a62-4ce7-af2a-a97de2505cee"
      },
      "execution_count": 53,
      "outputs": [
        {
          "output_type": "stream",
          "name": "stdout",
          "text": [
            "Average wait time(min): 0.6160260819372596\n",
            "Abandonment rate: 0.08917197452229299\n"
          ]
        }
      ]
    },
    {
      "cell_type": "markdown",
      "source": [
        "Defines `simulate_with_abandon(s, patience)`, where callers will hang up if their wait exceeds **5 minutes** (`patience = 5/60` hours).  \n",
        "Outputs:  \n",
        "* Mean wait (minutes) among those who stay.  \n",
        "* **Abandonment rate** (fraction of callers who give up).  "
      ],
      "metadata": {
        "id": "PCyKcZ1NnMQK"
      }
    },
    {
      "cell_type": "code",
      "source": [
        "# Optimal Staffing\n",
        "c_agent=20\n",
        "c_wait=0.50\n",
        "costs=[]\n",
        "for s in range(1,6):\n",
        "  w,_=simulate_with_abandon(s)\n",
        "  total_wait_cost=w.sum()*60*c_wait\n",
        "  staff_cost=s*c_agent*shift_hours\n",
        "  costs.append((s,staff_cost+total_wait_cost))\n",
        "opt=min(costs,key=lambda x:x[1])\n",
        "print(\"Agent count,total cost:\")\n",
        "for s,c in costs:print(f\"s={s}:${c:,.0f}\")\n",
        "print(f\"optimal s by cost={opt[0]}\")"
      ],
      "metadata": {
        "colab": {
          "base_uri": "https://localhost:8080/"
        },
        "id": "BYK1BclmlHDR",
        "outputId": "e8510345-d773-44d5-eef3-e00980e4c00b"
      },
      "execution_count": 54,
      "outputs": [
        {
          "output_type": "stream",
          "name": "stdout",
          "text": [
            "Agent count,total cost:\n",
            "s=1:$198\n",
            "s=2:$391\n",
            "s=3:$586\n",
            "s=4:$718\n",
            "s=5:$830\n",
            "optimal s by cost=1\n"
          ]
        }
      ]
    },
    {
      "cell_type": "code",
      "source": [
        "days=31\n",
        "daily=[]\n",
        "for _ in range(days):\n",
        "  w,_=simulate_with_abandon(opt[0])\n",
        "  daily.append((w.mean()*60,np.percentile(w*60,95)))\n",
        "df=pd.DataFrame(daily,columns=['Avg wait(min)','95th pct wait(min)'])\n",
        "print(df)\n",
        "df.hist(bins=10)\n",
        "plt.suptitle('30-Day variability in wait Times')\n",
        "plt.show()\n",
        "df.describe()"
      ],
      "metadata": {
        "colab": {
          "base_uri": "https://localhost:8080/",
          "height": 1000
        },
        "id": "Z1KtWMI8lQLz",
        "outputId": "65fbd57d-6fa2-47f3-f560-6fe6f2a2337b"
      },
      "execution_count": 55,
      "outputs": [
        {
          "output_type": "stream",
          "name": "stdout",
          "text": [
            "    Avg wait(min)  95th pct wait(min)\n",
            "0        2.150138            4.439082\n",
            "1        1.900674            4.666930\n",
            "2        2.018578            4.702022\n",
            "3        1.894927            4.813067\n",
            "4        1.772763            4.712760\n",
            "5        2.565484            4.493289\n",
            "6        1.660560            4.642374\n",
            "7        2.477172            4.734984\n",
            "8        2.534343            4.621639\n",
            "9        2.117772            4.817771\n",
            "10       2.107133            4.940171\n",
            "11       2.348147            4.670139\n",
            "12       1.904122            4.843447\n",
            "13       2.573250            4.840325\n",
            "14       2.318277            4.730032\n",
            "15       2.474544            4.707353\n",
            "16       2.337149            4.670702\n",
            "17       1.957499            4.715729\n",
            "18       2.873523            4.706679\n",
            "19       2.452938            4.791494\n",
            "20       2.227883            4.708684\n",
            "21       2.268363            4.765408\n",
            "22       1.784975            3.924112\n",
            "23       2.075801            4.858744\n",
            "24       2.259764            4.742836\n",
            "25       2.813892            4.594187\n",
            "26       2.244121            4.717236\n",
            "27       2.753804            4.914027\n",
            "28       2.253814            4.824088\n",
            "29       2.352375            4.740586\n",
            "30       2.363198            4.870104\n"
          ]
        },
        {
          "output_type": "display_data",
          "data": {
            "text/plain": [
              "<Figure size 640x480 with 2 Axes>"
            ],
            "image/png": "[encoded data removed]"
          },
          "metadata": {}
        },
        {
          "output_type": "execute_result",
          "data": {
            "text/plain": [
              "       Avg wait(min)  95th pct wait(min)\n",
              "count      31.000000           31.000000\n",
              "mean        2.252806            4.707097\n",
              "std         0.306109            0.182011\n",
              "min         1.660560            3.924112\n",
              "25%         2.047189            4.670421\n",
              "50%         2.259764            4.717236\n",
              "75%         2.463741            4.815419\n",
              "max         2.873523            4.940171"
            ],
            "text/html": [
              "\n",
              "  <div id=\"df-01a9504b-e11e-493f-a39a-af6a1a9e84ea\" class=\"colab-df-container\">\n",
              "    <div>\n",
              "<style scoped>\n",
              "    .dataframe tbody tr th:only-of-type {\n",
              "        vertical-align: middle;\n",
              "    }\n",
              "\n",
              "    .dataframe tbody tr th {\n",
              "        vertical-align: top;\n",
              "    }\n",
              "\n",
              "    .dataframe thead th {\n",
              "        text-align: right;\n",
              "    }\n",
              "</style>\n",
              "<table border=\"1\" class=\"dataframe\">\n",
              "  <thead>\n",
              "    <tr style=\"text-align: right;\">\n",
              "      <th></th>\n",
              "      <th>Avg wait(min)</th>\n",
              "      <th>95th pct wait(min)</th>\n",
              "    </tr>\n",
              "  </thead>\n",
              "  <tbody>\n",
              "    <tr>\n",
              "      <th>count</th>\n",
              "      <td>31.000000</td>\n",
              "      <td>31.000000</td>\n",
              "    </tr>\n",
              "    <tr>\n",
              "      <th>mean</th>\n",
              "      <td>2.252806</td>\n",
              "      <td>4.707097</td>\n",
              "    </tr>\n",
              "    <tr>\n",
              "      <th>std</th>\n",
              "      <td>0.306109</td>\n",
              "      <td>0.182011</td>\n",
              "    </tr>\n",
              "    <tr>\n",
              "      <th>min</th>\n",
              "      <td>1.660560</td>\n",
              "      <td>3.924112</td>\n",
              "    </tr>\n",
              "    <tr>\n",
              "      <th>25%</th>\n",
              "      <td>2.047189</td>\n",
              "      <td>4.670421</td>\n",
              "    </tr>\n",
              "    <tr>\n",
              "      <th>50%</th>\n",
              "      <td>2.259764</td>\n",
              "      <td>4.717236</td>\n",
              "    </tr>\n",
              "    <tr>\n",
              "      <th>75%</th>\n",
              "      <td>2.463741</td>\n",
              "      <td>4.815419</td>\n",
              "    </tr>\n",
              "    <tr>\n",
              "      <th>max</th>\n",
              "      <td>2.873523</td>\n",
              "      <td>4.940171</td>\n",
              "    </tr>\n",
              "  </tbody>\n",
              "</table>\n",
              "</div>\n",
              "    <div class=\"colab-df-buttons\">\n",
              "\n",
              "  <div class=\"colab-df-container\">\n",
              "    <button class=\"colab-df-convert\" onclick=\"convertToInteractive('df-01a9504b-e11e-493f-a39a-af6a1a9e84ea')\"\n",
              "            title=\"Convert this dataframe to an interactive table.\"\n",
              "            style=\"display:none;\">\n",
              "\n",
              "  <svg xmlns=\"http://www.w3.org/2000/svg\" height=\"24px\" viewBox=\"0 -960 960 960\">\n",
              "    <path d=\"M120-120v-720h720v720H120Zm60-500h600v-160H180v160Zm220 220h160v-160H400v160Zm0 220h160v-160H400v160ZM180-400h160v-160H180v160Zm440 0h160v-160H620v160ZM180-180h160v-160H180v160Zm440 0h160v-160H620v160Z\"/>\n",
              "  </svg>\n",
              "    </button>\n",
              "\n",
              "  <style>\n",
              "    .colab-df-container {\n",
              "      display:flex;\n",
              "      gap: 12px;\n",
              "    }\n",
              "\n",
              "    .colab-df-convert {\n",
              "      background-color: #E8F0FE;\n",
              "      border: none;\n",
              "      border-radius: 50%;\n",
              "      cursor: pointer;\n",
              "      display: none;\n",
              "      fill: #1967D2;\n",
              "      height: 32px;\n",
              "      padding: 0 0 0 0;\n",
              "      width: 32px;\n",
              "    }\n",
              "\n",
              "    .colab-df-convert:hover {\n",
              "      background-color: #E2EBFA;\n",
              "      box-shadow: 0px 1px 2px rgba(60, 64, 67, 0.3), 0px 1px 3px 1px rgba(60, 64, 67, 0.15);\n",
              "      fill: #174EA6;\n",
              "    }\n",
              "\n",
              "    .colab-df-buttons div {\n",
              "      margin-bottom: 4px;\n",
              "    }\n",
              "\n",
              "    [theme=dark] .colab-df-convert {\n",
              "      background-color: #3B4455;\n",
              "      fill: #D2E3FC;\n",
              "    }\n",
              "\n",
              "    [theme=dark] .colab-df-convert:hover {\n",
              "      background-color: #434B5C;\n",
              "      box-shadow: 0px 1px 3px 1px rgba(0, 0, 0, 0.15);\n",
              "      filter: drop-shadow(0px 1px 2px rgba(0, 0, 0, 0.3));\n",
              "      fill: #FFFFFF;\n",
              "    }\n",
              "  </style>\n",
              "\n",
              "    <script>\n",
              "      const buttonEl =\n",
              "        document.querySelector('#df-01a9504b-e11e-493f-a39a-af6a1a9e84ea button.colab-df-convert');\n",
              "      buttonEl.style.display =\n",
              "        google.colab.kernel.accessAllowed ? 'block' : 'none';\n",
              "\n",
              "      async function convertToInteractive(key) {\n",
              "        const element = document.querySelector('#df-01a9504b-e11e-493f-a39a-af6a1a9e84ea');\n",
              "        const dataTable =\n",
              "          await google.colab.kernel.invokeFunction('convertToInteractive',\n",
              "                                                    [key], {});\n",
              "        if (!dataTable) return;\n",
              "\n",
              "        const docLinkHtml = 'Like what you see? Visit the ' +\n",
              "          '<a target=\"_blank\" href=https://colab.research.google.com/notebooks/data_table.ipynb>data table notebook</a>'\n",
              "          + ' to learn more about interactive tables.';\n",
              "        element.innerHTML = '';\n",
              "        dataTable['output_type'] = 'display_data';\n",
              "        await google.colab.output.renderOutput(dataTable, element);\n",
              "        const docLink = document.createElement('div');\n",
              "        docLink.innerHTML = docLinkHtml;\n",
              "        element.appendChild(docLink);\n",
              "      }\n",
              "    </script>\n",
              "  </div>\n",
              "\n",
              "\n",
              "    <div id=\"df-34025f88-7119-4012-8bb8-0aa11ac1ea6e\">\n",
              "      <button class=\"colab-df-quickchart\" onclick=\"quickchart('df-34025f88-7119-4012-8bb8-0aa11ac1ea6e')\"\n",
              "                title=\"Suggest charts\"\n",
              "                style=\"display:none;\">\n",
              "\n",
              "<svg xmlns=\"http://www.w3.org/2000/svg\" height=\"24px\"viewBox=\"0 0 24 24\"\n",
              "     width=\"24px\">\n",
              "    <g>\n",
              "        <path d=\"M19 3H5c-1.1 0-2 .9-2 2v14c0 1.1.9 2 2 2h14c1.1 0 2-.9 2-2V5c0-1.1-.9-2-2-2zM9 17H7v-7h2v7zm4 0h-2V7h2v10zm4 0h-2v-4h2v4z\"/>\n",
              "    </g>\n",
              "</svg>\n",
              "      </button>\n",
              "\n",
              "<style>\n",
              "  .colab-df-quickchart {\n",
              "      --bg-color: #E8F0FE;\n",
              "      --fill-color: #1967D2;\n",
              "      --hover-bg-color: #E2EBFA;\n",
              "      --hover-fill-color: #174EA6;\n",
              "      --disabled-fill-color: #AAA;\n",
              "      --disabled-bg-color: #DDD;\n",
              "  }\n",
              "\n",
              "  [theme=dark] .colab-df-quickchart {\n",
              "      --bg-color: #3B4455;\n",
              "      --fill-color: #D2E3FC;\n",
              "      --hover-bg-color: #434B5C;\n",
              "      --hover-fill-color: #FFFFFF;\n",
              "      --disabled-bg-color: #3B4455;\n",
              "      --disabled-fill-color: #666;\n",
              "  }\n",
              "\n",
              "  .colab-df-quickchart {\n",
              "    background-color: var(--bg-color);\n",
              "    border: none;\n",
              "    border-radius: 50%;\n",
              "    cursor: pointer;\n",
              "    display: none;\n",
              "    fill: var(--fill-color);\n",
              "    height: 32px;\n",
              "    padding: 0;\n",
              "    width: 32px;\n",
              "  }\n",
              "\n",
              "  .colab-df-quickchart:hover {\n",
              "    background-color: var(--hover-bg-color);\n",
              "    box-shadow: 0 1px 2px rgba(60, 64, 67, 0.3), 0 1px 3px 1px rgba(60, 64, 67, 0.15);\n",
              "    fill: var(--button-hover-fill-color);\n",
              "  }\n",
              "\n",
              "  .colab-df-quickchart-complete:disabled,\n",
              "  .colab-df-quickchart-complete:disabled:hover {\n",
              "    background-color: var(--disabled-bg-color);\n",
              "    fill: var(--disabled-fill-color);\n",
              "    box-shadow: none;\n",
              "  }\n",
              "\n",
              "  .colab-df-spinner {\n",
              "    border: 2px solid var(--fill-color);\n",
              "    border-color: transparent;\n",
              "    border-bottom-color: var(--fill-color);\n",
              "    animation:\n",
              "      spin 1s steps(1) infinite;\n",
              "  }\n",
              "\n",
              "  @keyframes spin {\n",
              "    0% {\n",
              "      border-color: transparent;\n",
              "      border-bottom-color: var(--fill-color);\n",
              "      border-left-color: var(--fill-color);\n",
              "    }\n",
              "    20% {\n",
              "      border-color: transparent;\n",
              "      border-left-color: var(--fill-color);\n",
              "      border-top-color: var(--fill-color);\n",
              "    }\n",
              "    30% {\n",
              "      border-color: transparent;\n",
              "      border-left-color: var(--fill-color);\n",
              "      border-top-color: var(--fill-color);\n",
              "      border-right-color: var(--fill-color);\n",
              "    }\n",
              "    40% {\n",
              "      border-color: transparent;\n",
              "      border-right-color: var(--fill-color);\n",
              "      border-top-color: var(--fill-color);\n",
              "    }\n",
              "    60% {\n",
              "      border-color: transparent;\n",
              "      border-right-color: var(--fill-color);\n",
              "    }\n",
              "    80% {\n",
              "      border-color: transparent;\n",
              "      border-right-color: var(--fill-color);\n",
              "      border-bottom-color: var(--fill-color);\n",
              "    }\n",
              "    90% {\n",
              "      border-color: transparent;\n",
              "      border-bottom-color: var(--fill-color);\n",
              "    }\n",
              "  }\n",
              "</style>\n",
              "\n",
              "      <script>\n",
              "        async function quickchart(key) {\n",
              "          const quickchartButtonEl =\n",
              "            document.querySelector('#' + key + ' button');\n",
              "          quickchartButtonEl.disabled = true;  // To prevent multiple clicks.\n",
              "          quickchartButtonEl.classList.add('colab-df-spinner');\n",
              "          try {\n",
              "            const charts = await google.colab.kernel.invokeFunction(\n",
              "                'suggestCharts', [key], {});\n",
              "          } catch (error) {\n",
              "            console.error('Error during call to suggestCharts:', error);\n",
              "          }\n",
              "          quickchartButtonEl.classList.remove('colab-df-spinner');\n",
              "          quickchartButtonEl.classList.add('colab-df-quickchart-complete');\n",
              "        }\n",
              "        (() => {\n",
              "          let quickchartButtonEl =\n",
              "            document.querySelector('#df-34025f88-7119-4012-8bb8-0aa11ac1ea6e button');\n",
              "          quickchartButtonEl.style.display =\n",
              "            google.colab.kernel.accessAllowed ? 'block' : 'none';\n",
              "        })();\n",
              "      </script>\n",
              "    </div>\n",
              "\n",
              "    </div>\n",
              "  </div>\n"
            ],
            "application/vnd.google.colaboratory.intrinsic+json": {
              "type": "dataframe",
              "summary": "{\n  \"name\": \"df\",\n  \"rows\": 8,\n  \"fields\": [\n    {\n      \"column\": \"Avg wait(min)\",\n      \"properties\": {\n        \"dtype\": \"number\",\n        \"std\": 10.288392250769574,\n        \"min\": 0.3061085624010436,\n        \"max\": 31.0,\n        \"num_unique_values\": 8,\n        \"samples\": [\n          2.252805961596382,\n          2.2597642063056647,\n          31.0\n        ],\n        \"semantic_type\": \"\",\n        \"description\": \"\"\n      }\n    },\n    {\n      \"column\": \"95th pct wait(min)\",\n      \"properties\": {\n        \"dtype\": \"number\",\n        \"std\": 9.678873322638172,\n        \"min\": 0.18201077035167287,\n        \"max\": 31.0,\n        \"num_unique_values\": 8,\n        \"samples\": [\n          4.707096846768159,\n          4.717235587436669,\n          31.0\n        ],\n        \"semantic_type\": \"\",\n        \"description\": \"\"\n      }\n    }\n  ]\n}"
            }
          },
          "metadata": {},
          "execution_count": 55
        }
      ]
    }
  ]
}