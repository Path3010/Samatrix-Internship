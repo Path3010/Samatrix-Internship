{
  "nbformat": 4,
  "nbformat_minor": 0,
  "metadata": {
    "colab": {
      "provenance": []
    },
    "kernelspec": {
      "name": "python3",
      "display_name": "Python 3"
    },
    "language_info": {
      "name": "python"
    }
  },
  "cells": [
    {
      "cell_type": "markdown",
      "source": [
        "<h1>Path Patel 23AIML055"
      ],
      "metadata": {
        "id": "-3tHjhncJcfg"
      }
    },
    {
      "cell_type": "code",
      "execution_count": 43,
      "metadata": {
        "id": "8xGE6r7QPtmf"
      },
      "outputs": [],
      "source": [
        "!pip install lifelines --quiet"
      ]
    },
    {
      "cell_type": "code",
      "source": [
        "from lifelines import KaplanMeierFitter,CoxPHFitter\n",
        "from lifelines.statistics import logrank_test\n",
        "import pandas as pd\n",
        "import numpy as np\n",
        "import matplotlib.pyplot as plt\n",
        "import seaborn as sns"
      ],
      "metadata": {
        "id": "mYvthufw_CS9"
      },
      "execution_count": 44,
      "outputs": []
    },
    {
      "cell_type": "code",
      "source": [
        "df=pd.read_csv('https://samatrix-data.s3.ap-south-1.amazonaws.com/Statistics-Project/veteran.csv')\n",
        "df.info()"
      ],
      "metadata": {
        "colab": {
          "base_uri": "https://localhost:8080/"
        },
        "id": "5pZ7PyPH_VKa",
        "outputId": "c91b6d4a-dbfa-46c5-b783-73f13cf0f4b1"
      },
      "execution_count": 45,
      "outputs": [
        {
          "output_type": "stream",
          "name": "stdout",
          "text": [
            "<class 'pandas.core.frame.DataFrame'>\n",
            "RangeIndex: 274 entries, 0 to 273\n",
            "Data columns (total 9 columns):\n",
            " #   Column        Non-Null Count  Dtype \n",
            "---  ------        --------------  ----- \n",
            " 0   ID            274 non-null    int64 \n",
            " 1   TIME          274 non-null    int64 \n",
            " 2   Y             274 non-null    int64 \n",
            " 3   trt           274 non-null    object\n",
            " 4   celltype      274 non-null    object\n",
            " 5   karno         274 non-null    int64 \n",
            " 6   diagtime      274 non-null    int64 \n",
            " 7   age           274 non-null    int64 \n",
            " 8   priortherapy  274 non-null    object\n",
            "dtypes: int64(6), object(3)\n",
            "memory usage: 19.4+ KB\n"
          ]
        }
      ]
    },
    {
      "cell_type": "code",
      "source": [
        "kmf=KaplanMeierFitter()\n",
        "#separate your event(y=1 or y=0)\n",
        "df_event=df[df['Y']==1]\n",
        "\n",
        "kmf.fit(durations=df_event['TIME'],event_observed=df_event['Y'])\n",
        "kmf.plot_survival_function()\n",
        "plt.title('Overall Patient curve')\n",
        "plt.show()"
      ],
      "metadata": {
        "colab": {
          "base_uri": "https://localhost:8080/",
          "height": 472
        },
        "id": "YZbykznv_h93",
        "outputId": "500d6481-3020-4212-f593-5e86d85e7d5d"
      },
      "execution_count": 46,
      "outputs": [
        {
          "output_type": "display_data",
          "data": {
            "text/plain": [
              "<Figure size 640x480 with 1 Axes>"
            ],
            "image/png": "[encoded data removed]"
          },
          "metadata": {}
        }
      ]
    },
    {
      "cell_type": "markdown",
      "source": [
        "### Kaplan-Meier Survival Curve - Overall\n",
        "\n",
        "**Explanation:**  \n",
        "This cell initializes a `KaplanMeierFitter`, which estimates survival probabilities over time. The dataset is filtered to include only rows where the event (death) occurred (`Y == 1`).  \n",
        "The `.fit()` method is called using `TIME` (duration until event) and `Y` (event indicator). The resulting Kaplan-Meier curve shows the probability of survival as a function of time.\n",
        "\n",
        "**Formula:**  \n",
        "Kaplan-Meier estimator:  \n",
        "\\[\n",
        "\\hat{S}(t) = \\prod_{t_i \\leq t} \\left(1 - \\frac{d_i}{n_i}\\right)\n",
        "\\]  \n",
        "Where:\n",
        "- \\( d_i \\) = number of events (deaths) at time \\( t_i \\)  \n",
        "- \\( n_i \\) = number of individuals at risk just before time \\( t_i \\)\n",
        "\n",
        "**Insight:**  \n",
        "The curve shows the general trend of patient survival over time. A steeper decline indicates higher mortality earlier in the follow-up period. This provides a baseline understanding of the overall survival profile of the cohort.\n"
      ],
      "metadata": {
        "id": "zo1zPJSeG0Le"
      }
    },
    {
      "cell_type": "code",
      "source": [
        "for trt_group in df_event['trt'].unique():\n",
        "  mask=df_event['trt']==trt_group\n",
        "  kmf.fit(df_event[mask]['TIME'],df_event[mask]['Y'],label=trt_group)\n",
        "  kmf.plot_survival_function()\n",
        "plt.title('Treatment group curve')\n",
        "plt.show()"
      ],
      "metadata": {
        "colab": {
          "base_uri": "https://localhost:8080/",
          "height": 472
        },
        "id": "9f_drt1PB5-c",
        "outputId": "2052a3a1-f70c-4fff-a82f-a8483ceedbd7"
      },
      "execution_count": 47,
      "outputs": [
        {
          "output_type": "display_data",
          "data": {
            "text/plain": [
              "<Figure size 640x480 with 1 Axes>"
            ],
            "image/png": "[encoded data removed]"
          },
          "metadata": {}
        }
      ]
    },
    {
      "cell_type": "markdown",
      "source": [
        "### Kaplan-Meier Curve by Treatment Group\n",
        "\n",
        "**Explanation:**  \n",
        "This loop iterates over the unique treatment groups in the dataset (`standard` and `test`). For each group:\n",
        "- It creates a mask to filter patients in that group.\n",
        "- It fits a Kaplan-Meier survival curve to that subgroup.\n",
        "- It plots the survival function with the treatment group label.\n",
        "\n",
        "The final `plt.title()` adds a title to the combined plot for better visualization.\n",
        "\n",
        "**Formula Recap (Kaplan-Meier):**  \n",
        "\\[\n",
        "\\hat{S}(t) = \\prod_{t_i \\leq t} \\left(1 - \\frac{d_i}{n_i}\\right)\n",
        "\\]  \n",
        "Each treatment group gets its own survival function using this estimator.\n",
        "\n",
        "**Insight:**  \n",
        "The resulting plot visually compares survival probabilities for patients receiving `standard` vs `test` treatments.  \n",
        "A visibly higher survival curve for one group suggests better survival outcomes for that treatment. In this case, the **standard treatment appears to offer a slight survival advantage**, especially in the early-to-mid timeline.\n"
      ],
      "metadata": {
        "id": "LTz7MMdgG9TP"
      }
    },
    {
      "cell_type": "code",
      "source": [
        "for trt_group in df_event['trt'].unique():\n",
        "  mask=df_event['trt']==trt_group\n",
        "  kmf.fit(df_event[mask]['TIME'],df_event[mask]['Y'],label=str(trt_group)+'median='+str(np.median(df_event[mask]['TIME'])))\n",
        "  print(f\"Median survival time for {trt_group} is {np.median(df_event[mask]['TIME'])}\")"
      ],
      "metadata": {
        "colab": {
          "base_uri": "https://localhost:8080/"
        },
        "id": "SPxCtylKB_FY",
        "outputId": "fc3fcfbe-3408-4f2e-a403-fcb65f9bfbd0"
      },
      "execution_count": 48,
      "outputs": [
        {
          "output_type": "stream",
          "name": "stdout",
          "text": [
            "Median survival time for standard is 93.5\n",
            "Median survival time for test is 51.5\n"
          ]
        }
      ]
    },
    {
      "cell_type": "markdown",
      "source": [
        "### Median Survival Time by Treatment Group\n",
        "\n",
        "**Explanation:**  \n",
        "This code loops through each treatment group (`standard`, `test`) and:\n",
        "- Filters patients belonging to that group.\n",
        "- Calculates and prints the **median survival time** using `np.median()` on the `TIME` column.\n",
        "- Fits the Kaplan-Meier model and labels the plot with the group name and its median survival.\n",
        "\n",
        "**Concept:**  \n",
        "The **median survival time** is the time at which 50% of the patients in that group have experienced the event (death). It’s derived directly from the Kaplan-Meier survival curve.\n",
        "\n",
        "**Insight:**  \n",
        "This step gives a numerical summary of survival:  \n",
        "- If the median survival time for the **standard** group is higher than for the **test** group, it supports the visual observation that the standard treatment may be more effective.\n",
        "- The printed values offer concrete survival expectations for each treatment group and reinforce the survival difference seen in the Kaplan-Meier plot.\n"
      ],
      "metadata": {
        "id": "pOPrHWLDHFOn"
      }
    },
    {
      "cell_type": "code",
      "source": [
        "from lifelines.statistics import logrank_test\n",
        "group1=df_event[df_event['trt']=='standard']\n",
        "group2=df_event[df_event['trt']=='test']\n",
        "results=logrank_test(group1['TIME'],group2['TIME'],event_observed_A=group1['Y'],event_observed_B=group2['Y'])\n",
        "print(results.summary)"
      ],
      "metadata": {
        "colab": {
          "base_uri": "https://localhost:8080/"
        },
        "id": "Ak6GHQBkCCL-",
        "outputId": "6d9b42de-98f8-4311-e77a-fe84d190a8c9"
      },
      "execution_count": 49,
      "outputs": [
        {
          "output_type": "stream",
          "name": "stdout",
          "text": [
            "   test_statistic        p  -log2(p)\n",
            "0          0.0116  0.91423  0.129371\n"
          ]
        }
      ]
    },
    {
      "cell_type": "markdown",
      "source": [
        "### Log-Rank Test for Treatment Groups\n",
        "\n",
        "**Explanation:**  \n",
        "This code uses the **log-rank test** to compare the survival distributions between two groups:\n",
        "- `group1`: Patients receiving the **standard** treatment\n",
        "- `group2`: Patients receiving the **test** treatment\n",
        "\n",
        "The test checks whether there is a **statistically significant difference** in survival between the two groups, under the null hypothesis that their survival functions are equal.\n",
        "\n",
        "**Formula (Conceptual):**  \n",
        "The log-rank test statistic compares the observed vs. expected number of events (deaths) in each group across time:\n",
        "\\[\n",
        "\\chi^2 = \\frac{(O_1 - E_1)^2}{V_1}\n",
        "\\]\n",
        "Where:\n",
        "- \\( O_1 \\): observed events in group 1  \n",
        "- \\( E_1 \\): expected events in group 1 under null hypothesis  \n",
        "- \\( V_1 \\): variance of the difference\n",
        "\n",
        "**Insight:**  \n",
        "The `results.summary` displays:\n",
        "- The **test statistic**\n",
        "- The **p-value**\n",
        "\n",
        "If the **p-value < 0.05**, the result is statistically significant, indicating that the survival difference between the standard and test treatments is unlikely due to chance.  \n",
        "This confirms whether the difference observed in the Kaplan-Meier curves is meaningful.\n"
      ],
      "metadata": {
        "id": "Y4PE522BHKer"
      }
    },
    {
      "cell_type": "code",
      "source": [
        "from lifelines import CoxPHFitter\n",
        "df_wide=df_event.copy()\n",
        "df_wide=pd.get_dummies(df_wide,columns=['trt','celltype','priortherapy'],drop_first=True)"
      ],
      "metadata": {
        "id": "EG1VOJVjCEBH"
      },
      "execution_count": 50,
      "outputs": []
    },
    {
      "cell_type": "markdown",
      "source": [
        "### Data Preparation for Cox Proportional Hazards Model\n",
        "\n",
        "**Explanation:**  \n",
        "This step prepares the dataset for use in a **Cox Proportional Hazards (CoxPH) model**:\n",
        "- `df_event.copy()` creates a copy of the data containing only patients who experienced the event (death).\n",
        "- `pd.get_dummies(..., drop_first=True)` converts categorical variables (`trt`, `celltype`, `priortherapy`) into binary (dummy) variables suitable for regression modeling.\n",
        "- `drop_first=True` avoids multicollinearity by dropping the first category of each variable (it becomes the reference group).\n",
        "\n",
        "**Purpose:**  \n",
        "Cox regression requires numeric input. One-hot encoding transforms categories into binary features while retaining interpretability—e.g., comparing each cell type to a baseline.\n",
        "\n",
        "**Insight:**  \n",
        "This step doesn't generate insights directly but is **crucial** for enabling the Cox model to evaluate how treatment and other covariates (e.g., cancer cell type, prior therapy) affect survival time.\n"
      ],
      "metadata": {
        "id": "HWAc2QaDHQJZ"
      }
    },
    {
      "cell_type": "code",
      "source": [
        "cph=CoxPHFitter()\n",
        "cph.fit(df_wide,duration_col='TIME',event_col='Y')\n",
        "cph.print_summary()\n",
        "cph.plot()\n",
        "plt.show()"
      ],
      "metadata": {
        "colab": {
          "base_uri": "https://localhost:8080/",
          "height": 1000
        },
        "id": "pnE0iA7NCHW1",
        "outputId": "6ff94cfa-b635-4449-ae29-bab8581acdba"
      },
      "execution_count": 51,
      "outputs": [
        {
          "output_type": "display_data",
          "data": {
            "text/plain": [
              "<lifelines.CoxPHFitter: fitted with 128 total observations, 0 right-censored observations>\n",
              "             duration col = 'TIME'\n",
              "                event col = 'Y'\n",
              "      baseline estimation = breslow\n",
              "   number of observations = 128\n",
              "number of events observed = 128\n",
              "   partial log-likelihood = -465.21\n",
              "         time fit was run = 2025-06-06 16:50:17 UTC\n",
              "\n",
              "---\n",
              "                    coef exp(coef)  se(coef)  coef lower 95%  coef upper 95% exp(coef) lower 95% exp(coef) upper 95%\n",
              "covariate                                                                                                           \n",
              "ID                  0.00      1.00      0.01           -0.03            0.03                0.97                1.03\n",
              "karno              -0.03      0.97      0.01           -0.05           -0.02                0.96                0.98\n",
              "diagtime           -0.00      1.00      0.01           -0.02            0.01                0.98                1.01\n",
              "age                -0.01      0.99      0.01           -0.03            0.00                0.97                1.00\n",
              "trt_test            0.16      1.17      1.02           -1.84            2.16                0.16                8.63\n",
              "celltype_large     -0.83      0.43      0.36           -1.53           -0.14                0.22                0.87\n",
              "celltype_smallcell -0.12      0.88      0.38           -0.88            0.63                0.42                1.88\n",
              "celltype_squamous  -0.97      0.38      0.66           -2.27            0.33                0.10                1.38\n",
              "priortherapy_yes    0.18      1.20      0.24           -0.28            0.65                0.76                1.91\n",
              "\n",
              "                    cmp to     z      p  -log2(p)\n",
              "covariate                                        \n",
              "ID                    0.00  0.20   0.84      0.25\n",
              "karno                 0.00 -6.08 <0.005     29.60\n",
              "diagtime              0.00 -0.47   0.63      0.66\n",
              "age                   0.00 -1.54   0.12      3.02\n",
              "trt_test              0.00  0.16   0.88      0.19\n",
              "celltype_large        0.00 -2.34   0.02      5.71\n",
              "celltype_smallcell    0.00 -0.32   0.75      0.42\n",
              "celltype_squamous     0.00 -1.47   0.14      2.82\n",
              "priortherapy_yes      0.00  0.79   0.43      1.21\n",
              "---\n",
              "Concordance = 0.74\n",
              "Partial AIC = 948.43\n",
              "log-likelihood ratio test = 62.38 on 9 df\n",
              "-log2(p) of ll-ratio test = 31.00"
            ],
            "text/html": [
              "<div>\n",
              "<style scoped>\n",
              "    .dataframe tbody tr th:only-of-type {\n",
              "        vertical-align: middle;\n",
              "    }\n",
              "\n",
              "    .dataframe tbody tr th {\n",
              "        vertical-align: top;\n",
              "    }\n",
              "\n",
              "    .dataframe thead th {\n",
              "        text-align: right;\n",
              "    }\n",
              "</style>\n",
              "<table border=\"1\" class=\"dataframe\">\n",
              "  <tbody>\n",
              "    <tr>\n",
              "      <th>model</th>\n",
              "      <td>lifelines.CoxPHFitter</td>\n",
              "    </tr>\n",
              "    <tr>\n",
              "      <th>duration col</th>\n",
              "      <td>'TIME'</td>\n",
              "    </tr>\n",
              "    <tr>\n",
              "      <th>event col</th>\n",
              "      <td>'Y'</td>\n",
              "    </tr>\n",
              "    <tr>\n",
              "      <th>baseline estimation</th>\n",
              "      <td>breslow</td>\n",
              "    </tr>\n",
              "    <tr>\n",
              "      <th>number of observations</th>\n",
              "      <td>128</td>\n",
              "    </tr>\n",
              "    <tr>\n",
              "      <th>number of events observed</th>\n",
              "      <td>128</td>\n",
              "    </tr>\n",
              "    <tr>\n",
              "      <th>partial log-likelihood</th>\n",
              "      <td>-465.21</td>\n",
              "    </tr>\n",
              "    <tr>\n",
              "      <th>time fit was run</th>\n",
              "      <td>2025-06-06 16:50:17 UTC</td>\n",
              "    </tr>\n",
              "  </tbody>\n",
              "</table>\n",
              "</div><table border=\"1\" class=\"dataframe\">\n",
              "  <thead>\n",
              "    <tr style=\"text-align: right;\">\n",
              "      <th style=\"min-width: 12px;\"></th>\n",
              "      <th style=\"min-width: 12px;\">coef</th>\n",
              "      <th style=\"min-width: 12px;\">exp(coef)</th>\n",
              "      <th style=\"min-width: 12px;\">se(coef)</th>\n",
              "      <th style=\"min-width: 12px;\">coef lower 95%</th>\n",
              "      <th style=\"min-width: 12px;\">coef upper 95%</th>\n",
              "      <th style=\"min-width: 12px;\">exp(coef) lower 95%</th>\n",
              "      <th style=\"min-width: 12px;\">exp(coef) upper 95%</th>\n",
              "      <th style=\"min-width: 12px;\">cmp to</th>\n",
              "      <th style=\"min-width: 12px;\">z</th>\n",
              "      <th style=\"min-width: 12px;\">p</th>\n",
              "      <th style=\"min-width: 12px;\">-log2(p)</th>\n",
              "    </tr>\n",
              "  </thead>\n",
              "  <tbody>\n",
              "    <tr>\n",
              "      <th>ID</th>\n",
              "      <td>0.00</td>\n",
              "      <td>1.00</td>\n",
              "      <td>0.01</td>\n",
              "      <td>-0.03</td>\n",
              "      <td>0.03</td>\n",
              "      <td>0.97</td>\n",
              "      <td>1.03</td>\n",
              "      <td>0.00</td>\n",
              "      <td>0.20</td>\n",
              "      <td>0.84</td>\n",
              "      <td>0.25</td>\n",
              "    </tr>\n",
              "    <tr>\n",
              "      <th>karno</th>\n",
              "      <td>-0.03</td>\n",
              "      <td>0.97</td>\n",
              "      <td>0.01</td>\n",
              "      <td>-0.05</td>\n",
              "      <td>-0.02</td>\n",
              "      <td>0.96</td>\n",
              "      <td>0.98</td>\n",
              "      <td>0.00</td>\n",
              "      <td>-6.08</td>\n",
              "      <td>&lt;0.005</td>\n",
              "      <td>29.60</td>\n",
              "    </tr>\n",
              "    <tr>\n",
              "      <th>diagtime</th>\n",
              "      <td>-0.00</td>\n",
              "      <td>1.00</td>\n",
              "      <td>0.01</td>\n",
              "      <td>-0.02</td>\n",
              "      <td>0.01</td>\n",
              "      <td>0.98</td>\n",
              "      <td>1.01</td>\n",
              "      <td>0.00</td>\n",
              "      <td>-0.47</td>\n",
              "      <td>0.63</td>\n",
              "      <td>0.66</td>\n",
              "    </tr>\n",
              "    <tr>\n",
              "      <th>age</th>\n",
              "      <td>-0.01</td>\n",
              "      <td>0.99</td>\n",
              "      <td>0.01</td>\n",
              "      <td>-0.03</td>\n",
              "      <td>0.00</td>\n",
              "      <td>0.97</td>\n",
              "      <td>1.00</td>\n",
              "      <td>0.00</td>\n",
              "      <td>-1.54</td>\n",
              "      <td>0.12</td>\n",
              "      <td>3.02</td>\n",
              "    </tr>\n",
              "    <tr>\n",
              "      <th>trt_test</th>\n",
              "      <td>0.16</td>\n",
              "      <td>1.17</td>\n",
              "      <td>1.02</td>\n",
              "      <td>-1.84</td>\n",
              "      <td>2.16</td>\n",
              "      <td>0.16</td>\n",
              "      <td>8.63</td>\n",
              "      <td>0.00</td>\n",
              "      <td>0.16</td>\n",
              "      <td>0.88</td>\n",
              "      <td>0.19</td>\n",
              "    </tr>\n",
              "    <tr>\n",
              "      <th>celltype_large</th>\n",
              "      <td>-0.83</td>\n",
              "      <td>0.43</td>\n",
              "      <td>0.36</td>\n",
              "      <td>-1.53</td>\n",
              "      <td>-0.14</td>\n",
              "      <td>0.22</td>\n",
              "      <td>0.87</td>\n",
              "      <td>0.00</td>\n",
              "      <td>-2.34</td>\n",
              "      <td>0.02</td>\n",
              "      <td>5.71</td>\n",
              "    </tr>\n",
              "    <tr>\n",
              "      <th>celltype_smallcell</th>\n",
              "      <td>-0.12</td>\n",
              "      <td>0.88</td>\n",
              "      <td>0.38</td>\n",
              "      <td>-0.88</td>\n",
              "      <td>0.63</td>\n",
              "      <td>0.42</td>\n",
              "      <td>1.88</td>\n",
              "      <td>0.00</td>\n",
              "      <td>-0.32</td>\n",
              "      <td>0.75</td>\n",
              "      <td>0.42</td>\n",
              "    </tr>\n",
              "    <tr>\n",
              "      <th>celltype_squamous</th>\n",
              "      <td>-0.97</td>\n",
              "      <td>0.38</td>\n",
              "      <td>0.66</td>\n",
              "      <td>-2.27</td>\n",
              "      <td>0.33</td>\n",
              "      <td>0.10</td>\n",
              "      <td>1.38</td>\n",
              "      <td>0.00</td>\n",
              "      <td>-1.47</td>\n",
              "      <td>0.14</td>\n",
              "      <td>2.82</td>\n",
              "    </tr>\n",
              "    <tr>\n",
              "      <th>priortherapy_yes</th>\n",
              "      <td>0.18</td>\n",
              "      <td>1.20</td>\n",
              "      <td>0.24</td>\n",
              "      <td>-0.28</td>\n",
              "      <td>0.65</td>\n",
              "      <td>0.76</td>\n",
              "      <td>1.91</td>\n",
              "      <td>0.00</td>\n",
              "      <td>0.79</td>\n",
              "      <td>0.43</td>\n",
              "      <td>1.21</td>\n",
              "    </tr>\n",
              "  </tbody>\n",
              "</table><br><div>\n",
              "<style scoped>\n",
              "    .dataframe tbody tr th:only-of-type {\n",
              "        vertical-align: middle;\n",
              "    }\n",
              "\n",
              "    .dataframe tbody tr th {\n",
              "        vertical-align: top;\n",
              "    }\n",
              "\n",
              "    .dataframe thead th {\n",
              "        text-align: right;\n",
              "    }\n",
              "</style>\n",
              "<table border=\"1\" class=\"dataframe\">\n",
              "  <tbody>\n",
              "    <tr>\n",
              "      <th>Concordance</th>\n",
              "      <td>0.74</td>\n",
              "    </tr>\n",
              "    <tr>\n",
              "      <th>Partial AIC</th>\n",
              "      <td>948.43</td>\n",
              "    </tr>\n",
              "    <tr>\n",
              "      <th>log-likelihood ratio test</th>\n",
              "      <td>62.38 on 9 df</td>\n",
              "    </tr>\n",
              "    <tr>\n",
              "      <th>-log2(p) of ll-ratio test</th>\n",
              "      <td>31.00</td>\n",
              "    </tr>\n",
              "  </tbody>\n",
              "</table>\n",
              "</div>"
            ],
            "text/latex": "\\begin{tabular}{lrrrrrrrrrrr}\n & coef & exp(coef) & se(coef) & coef lower 95% & coef upper 95% & exp(coef) lower 95% & exp(coef) upper 95% & cmp to & z & p & -log2(p) \\\\\ncovariate &  &  &  &  &  &  &  &  &  &  &  \\\\\nID & 0.00 & 1.00 & 0.01 & -0.03 & 0.03 & 0.97 & 1.03 & 0.00 & 0.20 & 0.84 & 0.25 \\\\\nkarno & -0.03 & 0.97 & 0.01 & -0.05 & -0.02 & 0.96 & 0.98 & 0.00 & -6.08 & 0.00 & 29.60 \\\\\ndiagtime & -0.00 & 1.00 & 0.01 & -0.02 & 0.01 & 0.98 & 1.01 & 0.00 & -0.47 & 0.63 & 0.66 \\\\\nage & -0.01 & 0.99 & 0.01 & -0.03 & 0.00 & 0.97 & 1.00 & 0.00 & -1.54 & 0.12 & 3.02 \\\\\ntrt_test & 0.16 & 1.17 & 1.02 & -1.84 & 2.16 & 0.16 & 8.63 & 0.00 & 0.16 & 0.88 & 0.19 \\\\\ncelltype_large & -0.83 & 0.43 & 0.36 & -1.53 & -0.14 & 0.22 & 0.87 & 0.00 & -2.34 & 0.02 & 5.71 \\\\\ncelltype_smallcell & -0.12 & 0.88 & 0.38 & -0.88 & 0.63 & 0.42 & 1.88 & 0.00 & -0.32 & 0.75 & 0.42 \\\\\ncelltype_squamous & -0.97 & 0.38 & 0.66 & -2.27 & 0.33 & 0.10 & 1.38 & 0.00 & -1.47 & 0.14 & 2.82 \\\\\npriortherapy_yes & 0.18 & 1.20 & 0.24 & -0.28 & 0.65 & 0.76 & 1.91 & 0.00 & 0.79 & 0.43 & 1.21 \\\\\n\\end{tabular}\n"
          },
          "metadata": {}
        },
        {
          "output_type": "display_data",
          "data": {
            "text/plain": [
              "<Figure size 640x480 with 1 Axes>"
            ],
            "image/png": "[encoded data removed]"
          },
          "metadata": {}
        }
      ]
    },
    {
      "cell_type": "markdown",
      "source": [
        "### Cox Proportional Hazards Model (Multivariable Survival Analysis)\n",
        "\n",
        "**Explanation:**  \n",
        "This code fits a **Cox Proportional Hazards (CoxPH)** model using the previously prepared dataset:\n",
        "- `duration_col='TIME'` specifies the survival time.\n",
        "- `event_col='Y'` specifies the event indicator (1 = death, 0 = censored).\n",
        "- `cph.print_summary()` displays the estimated hazard ratios, confidence intervals, and p-values.\n",
        "- `cph.plot()` visualizes the log hazard ratios for each covariate.\n",
        "\n",
        "**Formula (CoxPH Model):**  \n",
        "\\[\n",
        "h(t) = h_0(t) \\cdot \\exp(\\beta_1 x_1 + \\beta_2 x_2 + \\dots + \\beta_n x_n)\n",
        "\\]  \n",
        "Where:\n",
        "- \\( h(t) \\): hazard at time \\( t \\)  \n",
        "- \\( h_0(t) \\): baseline hazard  \n",
        "- \\( x_i \\): covariates (e.g., treatment, cell type)  \n",
        "- \\( \\beta_i \\): coefficients estimated from the data\n",
        "\n",
        "**Insight:**  \n",
        "- A **hazard ratio (HR) > 1** indicates increased risk of death.\n",
        "- A **HR < 1** indicates reduced risk (protective effect).\n",
        "- Statistically significant variables (p < 0.05) are influential in determining survival.\n",
        "  \n",
        "From the output, you can identify which factors (e.g., treatment type, Karnofsky score, cell type) **significantly impact patient survival**. This helps prioritize clinical features when designing personalized treatment strategies.\n"
      ],
      "metadata": {
        "id": "_pQNJ4b5HYWE"
      }
    },
    {
      "cell_type": "code",
      "source": [
        "df_encoded = pd.get_dummies(df, columns=['trt', 'priortherapy'], drop_first=True)\n",
        "\n",
        "cph_strat = CoxPHFitter()\n",
        "cph_strat.fit(df_encoded, duration_col='TIME', event_col='Y', strata=['celltype'])\n",
        "cph_strat.print_summary()"
      ],
      "metadata": {
        "colab": {
          "base_uri": "https://localhost:8080/",
          "height": 663
        },
        "id": "1gX70lkICK9r",
        "outputId": "d9a82e96-ca07-40da-b441-3e09addeb949"
      },
      "execution_count": 52,
      "outputs": [
        {
          "output_type": "display_data",
          "data": {
            "text/plain": [
              "<lifelines.CoxPHFitter: fitted with 274 total observations, 146 right-censored observations>\n",
              "             duration col = 'TIME'\n",
              "                event col = 'Y'\n",
              "                   strata = celltype\n",
              "      baseline estimation = breslow\n",
              "   number of observations = 274\n",
              "number of events observed = 128\n",
              "   partial log-likelihood = -315.99\n",
              "         time fit was run = 2025-06-06 16:50:17 UTC\n",
              "\n",
              "---\n",
              "                  coef exp(coef)  se(coef)  coef lower 95%  coef upper 95% exp(coef) lower 95% exp(coef) upper 95%\n",
              "covariate                                                                                                         \n",
              "ID                0.02      1.02      0.02           -0.01            0.05                0.99                1.05\n",
              "karno            -0.04      0.96      0.01           -0.05           -0.03                0.95                0.97\n",
              "diagtime         -0.01      0.99      0.01           -0.02            0.01                0.98                1.01\n",
              "age              -0.01      0.99      0.01           -0.03            0.01                0.97                1.01\n",
              "trt_test         -0.90      0.41      1.09           -3.03            1.24                0.05                3.44\n",
              "priortherapy_yes  0.22      1.24      0.24           -0.25            0.69                0.78                1.99\n",
              "\n",
              "                  cmp to     z      p  -log2(p)\n",
              "covariate                                      \n",
              "ID                  0.00  1.11   0.27      1.90\n",
              "karno               0.00 -6.52 <0.005     33.73\n",
              "diagtime            0.00 -0.60   0.55      0.86\n",
              "age                 0.00 -1.41   0.16      2.65\n",
              "trt_test            0.00 -0.82   0.41      1.29\n",
              "priortherapy_yes    0.00  0.90   0.37      1.44\n",
              "---\n",
              "Concordance = 0.71\n",
              "Partial AIC = 643.99\n",
              "log-likelihood ratio test = 45.48 on 6 df\n",
              "-log2(p) of ll-ratio test = 24.67"
            ],
            "text/html": [
              "<div>\n",
              "<style scoped>\n",
              "    .dataframe tbody tr th:only-of-type {\n",
              "        vertical-align: middle;\n",
              "    }\n",
              "\n",
              "    .dataframe tbody tr th {\n",
              "        vertical-align: top;\n",
              "    }\n",
              "\n",
              "    .dataframe thead th {\n",
              "        text-align: right;\n",
              "    }\n",
              "</style>\n",
              "<table border=\"1\" class=\"dataframe\">\n",
              "  <tbody>\n",
              "    <tr>\n",
              "      <th>model</th>\n",
              "      <td>lifelines.CoxPHFitter</td>\n",
              "    </tr>\n",
              "    <tr>\n",
              "      <th>duration col</th>\n",
              "      <td>'TIME'</td>\n",
              "    </tr>\n",
              "    <tr>\n",
              "      <th>event col</th>\n",
              "      <td>'Y'</td>\n",
              "    </tr>\n",
              "    <tr>\n",
              "      <th>strata</th>\n",
              "      <td>celltype</td>\n",
              "    </tr>\n",
              "    <tr>\n",
              "      <th>baseline estimation</th>\n",
              "      <td>breslow</td>\n",
              "    </tr>\n",
              "    <tr>\n",
              "      <th>number of observations</th>\n",
              "      <td>274</td>\n",
              "    </tr>\n",
              "    <tr>\n",
              "      <th>number of events observed</th>\n",
              "      <td>128</td>\n",
              "    </tr>\n",
              "    <tr>\n",
              "      <th>partial log-likelihood</th>\n",
              "      <td>-315.99</td>\n",
              "    </tr>\n",
              "    <tr>\n",
              "      <th>time fit was run</th>\n",
              "      <td>2025-06-06 16:50:17 UTC</td>\n",
              "    </tr>\n",
              "  </tbody>\n",
              "</table>\n",
              "</div><table border=\"1\" class=\"dataframe\">\n",
              "  <thead>\n",
              "    <tr style=\"text-align: right;\">\n",
              "      <th style=\"min-width: 12px;\"></th>\n",
              "      <th style=\"min-width: 12px;\">coef</th>\n",
              "      <th style=\"min-width: 12px;\">exp(coef)</th>\n",
              "      <th style=\"min-width: 12px;\">se(coef)</th>\n",
              "      <th style=\"min-width: 12px;\">coef lower 95%</th>\n",
              "      <th style=\"min-width: 12px;\">coef upper 95%</th>\n",
              "      <th style=\"min-width: 12px;\">exp(coef) lower 95%</th>\n",
              "      <th style=\"min-width: 12px;\">exp(coef) upper 95%</th>\n",
              "      <th style=\"min-width: 12px;\">cmp to</th>\n",
              "      <th style=\"min-width: 12px;\">z</th>\n",
              "      <th style=\"min-width: 12px;\">p</th>\n",
              "      <th style=\"min-width: 12px;\">-log2(p)</th>\n",
              "    </tr>\n",
              "  </thead>\n",
              "  <tbody>\n",
              "    <tr>\n",
              "      <th>ID</th>\n",
              "      <td>0.02</td>\n",
              "      <td>1.02</td>\n",
              "      <td>0.02</td>\n",
              "      <td>-0.01</td>\n",
              "      <td>0.05</td>\n",
              "      <td>0.99</td>\n",
              "      <td>1.05</td>\n",
              "      <td>0.00</td>\n",
              "      <td>1.11</td>\n",
              "      <td>0.27</td>\n",
              "      <td>1.90</td>\n",
              "    </tr>\n",
              "    <tr>\n",
              "      <th>karno</th>\n",
              "      <td>-0.04</td>\n",
              "      <td>0.96</td>\n",
              "      <td>0.01</td>\n",
              "      <td>-0.05</td>\n",
              "      <td>-0.03</td>\n",
              "      <td>0.95</td>\n",
              "      <td>0.97</td>\n",
              "      <td>0.00</td>\n",
              "      <td>-6.52</td>\n",
              "      <td>&lt;0.005</td>\n",
              "      <td>33.73</td>\n",
              "    </tr>\n",
              "    <tr>\n",
              "      <th>diagtime</th>\n",
              "      <td>-0.01</td>\n",
              "      <td>0.99</td>\n",
              "      <td>0.01</td>\n",
              "      <td>-0.02</td>\n",
              "      <td>0.01</td>\n",
              "      <td>0.98</td>\n",
              "      <td>1.01</td>\n",
              "      <td>0.00</td>\n",
              "      <td>-0.60</td>\n",
              "      <td>0.55</td>\n",
              "      <td>0.86</td>\n",
              "    </tr>\n",
              "    <tr>\n",
              "      <th>age</th>\n",
              "      <td>-0.01</td>\n",
              "      <td>0.99</td>\n",
              "      <td>0.01</td>\n",
              "      <td>-0.03</td>\n",
              "      <td>0.01</td>\n",
              "      <td>0.97</td>\n",
              "      <td>1.01</td>\n",
              "      <td>0.00</td>\n",
              "      <td>-1.41</td>\n",
              "      <td>0.16</td>\n",
              "      <td>2.65</td>\n",
              "    </tr>\n",
              "    <tr>\n",
              "      <th>trt_test</th>\n",
              "      <td>-0.90</td>\n",
              "      <td>0.41</td>\n",
              "      <td>1.09</td>\n",
              "      <td>-3.03</td>\n",
              "      <td>1.24</td>\n",
              "      <td>0.05</td>\n",
              "      <td>3.44</td>\n",
              "      <td>0.00</td>\n",
              "      <td>-0.82</td>\n",
              "      <td>0.41</td>\n",
              "      <td>1.29</td>\n",
              "    </tr>\n",
              "    <tr>\n",
              "      <th>priortherapy_yes</th>\n",
              "      <td>0.22</td>\n",
              "      <td>1.24</td>\n",
              "      <td>0.24</td>\n",
              "      <td>-0.25</td>\n",
              "      <td>0.69</td>\n",
              "      <td>0.78</td>\n",
              "      <td>1.99</td>\n",
              "      <td>0.00</td>\n",
              "      <td>0.90</td>\n",
              "      <td>0.37</td>\n",
              "      <td>1.44</td>\n",
              "    </tr>\n",
              "  </tbody>\n",
              "</table><br><div>\n",
              "<style scoped>\n",
              "    .dataframe tbody tr th:only-of-type {\n",
              "        vertical-align: middle;\n",
              "    }\n",
              "\n",
              "    .dataframe tbody tr th {\n",
              "        vertical-align: top;\n",
              "    }\n",
              "\n",
              "    .dataframe thead th {\n",
              "        text-align: right;\n",
              "    }\n",
              "</style>\n",
              "<table border=\"1\" class=\"dataframe\">\n",
              "  <tbody>\n",
              "    <tr>\n",
              "      <th>Concordance</th>\n",
              "      <td>0.71</td>\n",
              "    </tr>\n",
              "    <tr>\n",
              "      <th>Partial AIC</th>\n",
              "      <td>643.99</td>\n",
              "    </tr>\n",
              "    <tr>\n",
              "      <th>log-likelihood ratio test</th>\n",
              "      <td>45.48 on 6 df</td>\n",
              "    </tr>\n",
              "    <tr>\n",
              "      <th>-log2(p) of ll-ratio test</th>\n",
              "      <td>24.67</td>\n",
              "    </tr>\n",
              "  </tbody>\n",
              "</table>\n",
              "</div>"
            ],
            "text/latex": "\\begin{tabular}{lrrrrrrrrrrr}\n & coef & exp(coef) & se(coef) & coef lower 95% & coef upper 95% & exp(coef) lower 95% & exp(coef) upper 95% & cmp to & z & p & -log2(p) \\\\\ncovariate &  &  &  &  &  &  &  &  &  &  &  \\\\\nID & 0.02 & 1.02 & 0.02 & -0.01 & 0.05 & 0.99 & 1.05 & 0.00 & 1.11 & 0.27 & 1.90 \\\\\nkarno & -0.04 & 0.96 & 0.01 & -0.05 & -0.03 & 0.95 & 0.97 & 0.00 & -6.52 & 0.00 & 33.73 \\\\\ndiagtime & -0.01 & 0.99 & 0.01 & -0.02 & 0.01 & 0.98 & 1.01 & 0.00 & -0.60 & 0.55 & 0.86 \\\\\nage & -0.01 & 0.99 & 0.01 & -0.03 & 0.01 & 0.97 & 1.01 & 0.00 & -1.41 & 0.16 & 2.65 \\\\\ntrt_test & -0.90 & 0.41 & 1.09 & -3.03 & 1.24 & 0.05 & 3.44 & 0.00 & -0.82 & 0.41 & 1.29 \\\\\npriortherapy_yes & 0.22 & 1.24 & 0.24 & -0.25 & 0.69 & 0.78 & 1.99 & 0.00 & 0.90 & 0.37 & 1.44 \\\\\n\\end{tabular}\n"
          },
          "metadata": {}
        }
      ]
    },
    {
      "cell_type": "markdown",
      "source": [
        "### Stratified Cox Proportional Hazards Model (by Cell Type)\n",
        "\n",
        "**Explanation:**  \n",
        "This model stratifies the Cox Proportional Hazards analysis by **`celltype`**:\n",
        "- `pd.get_dummies()` is used again to one-hot encode `trt` and `priortherapy`, excluding one category to prevent redundancy.\n",
        "- `strata=['celltype']` tells the model to allow **different baseline hazard functions** for each cell type while estimating the effect of other covariates (e.g., treatment, prior therapy) across those strata.\n",
        "\n",
        "**Why Stratify?**  \n",
        "In regular Cox models, we assume a **single baseline hazard**. Stratification relaxes this assumption for variables (like `celltype`) that:\n",
        "- Strongly affect baseline risk\n",
        "- Violate the proportional hazards assumption\n",
        "\n",
        "**Formula (Conceptual):**  \n",
        "\\[\n",
        "h_k(t) = h_{0k}(t) \\cdot \\exp(\\beta_1 x_1 + \\dots + \\beta_n x_n)\n",
        "\\]  \n",
        "Where \\( h_{0k}(t) \\) is a **stratum-specific baseline hazard** for each cell type \\( k \\).\n",
        "\n",
        "**Insight:**  \n",
        "This model isolates the effect of treatment and other covariates **independent of cell type differences**.  \n",
        "If treatment still shows a significant hazard ratio after adjusting for cell type, it suggests the effect is robust across cancer subtypes.\n",
        "\n",
        "This stratified approach improves model accuracy by controlling for the strong influence of cell type on survival.\n"
      ],
      "metadata": {
        "id": "DF_EyZUmHdzU"
      }
    },
    {
      "cell_type": "code",
      "source": [
        "# step 1 seprate rows\n",
        "df_start=df[df[\"Y\"]==0].copy()\n",
        "df_event=df[df[\"Y\"]==1].copy()\n",
        "\n",
        "# merge & change column name\n",
        "df_event=df_event.rename(columns={\"TIME\":\"stop\",\"Y\":\"event\"})\n",
        "df_start=df_start.rename(columns={\"TIME\":\"start\"})\n",
        "\n",
        "df_timevarying=pd.merge(df_start,df_event[[\"ID\",\"stop\",\"event\"]],on=\"ID\")\n",
        "\n",
        "# one-hot encoding\n",
        "df_timevarying = pd.get_dummies(df_timevarying, columns=['trt','celltype' ,'priortherapy'], drop_first=True)\n",
        "\n",
        "# Final check\n",
        "print(df_timevarying[['ID', 'start', 'stop', 'event']].head())"
      ],
      "metadata": {
        "colab": {
          "base_uri": "https://localhost:8080/"
        },
        "id": "QqetQcxfCPbD",
        "outputId": "dddf6f3a-2161-4e19-f6f8-c53b3a1618ea"
      },
      "execution_count": 53,
      "outputs": [
        {
          "output_type": "stream",
          "name": "stdout",
          "text": [
            "   ID  start  stop  event\n",
            "0   1      0    72      1\n",
            "1   2      0   411      1\n",
            "2   3      0   228      1\n",
            "3   4      0   126      1\n",
            "4   5      0   118      1\n"
          ]
        }
      ]
    },
    {
      "cell_type": "markdown",
      "source": [
        "### Preparing Data for Time-Varying Cox Model\n",
        "\n",
        "**Explanation:**  \n",
        "This step transforms the dataset for modeling **time-varying covariates**, enabling survival analysis when patient conditions change over time.\n",
        "\n",
        "#### Step-by-step breakdown:\n",
        "- **Separate censored vs. event rows**:\n",
        "  - `df_start`: Patients without the event (`Y == 0`) – used to create start times.\n",
        "  - `df_event`: Patients who experienced the event (`Y == 1`) – used to record stop times and event indicators.\n",
        "  \n",
        "- **Rename columns** for clarity:\n",
        "  - `TIME` → `stop` in `df_event`, `TIME` → `start` in `df_start`\n",
        "  \n",
        "- **Merge datasets** on `ID`:\n",
        "  - This simulates time-varying structure, where each subject has both start and stop times.\n",
        "\n",
        "- **One-hot encoding**:\n",
        "  - Categorical columns (`trt`, `celltype`, `priortherapy`) are converted to binary variables using `pd.get_dummies()`.\n",
        "\n",
        "**Purpose:**  \n",
        "This structure allows later modeling of how risk changes over a patient's observed interval. While the dataset still contains only a single interval per patient, this format enables later insertion of true time-varying covariates.\n",
        "\n",
        "**Insight:**  \n",
        "Although no modeling happens here, the format prepares the data for advanced survival models that **simulate or capture changes in patient condition or treatment effects over time**.\n"
      ],
      "metadata": {
        "id": "BVvQMFxgHjk3"
      }
    },
    {
      "cell_type": "code",
      "source": [
        "#check there is null value\n",
        "print(df_timevarying.isnull().sum())\n",
        "if 'Y' in df_timevarying.columns:\n",
        "   df_timevarying.drop(columns=['Y'],inplace=True)"
      ],
      "metadata": {
        "colab": {
          "base_uri": "https://localhost:8080/"
        },
        "id": "1nGRUsxwCXCr",
        "outputId": "97cfdb98-baf0-4104-8513-0fd46c713d84"
      },
      "execution_count": 54,
      "outputs": [
        {
          "output_type": "stream",
          "name": "stdout",
          "text": [
            "ID                    0\n",
            "start                 0\n",
            "Y                     0\n",
            "karno                 0\n",
            "diagtime              0\n",
            "age                   0\n",
            "stop                  0\n",
            "event                 0\n",
            "trt_test              0\n",
            "celltype_large        0\n",
            "celltype_smallcell    0\n",
            "celltype_squamous     0\n",
            "priortherapy_yes      0\n",
            "dtype: int64\n"
          ]
        }
      ]
    },
    {
      "cell_type": "markdown",
      "source": [
        "### Data Cleaning Before Time-Varying Cox Modeling\n",
        "\n",
        "**Explanation:**  \n",
        "This step ensures the prepared dataset (`df_timevarying`) is clean and compatible with survival modeling.\n",
        "\n",
        "#### Actions performed:\n",
        "- `df_timevarying.isnull().sum()`: Checks for any missing values in each column. Missing values can cause errors or bias during model fitting.\n",
        "- `df_timevarying.drop(columns=['Y'])`: Removes the original event indicator column (`Y`) if it exists. The time-varying format now uses `event` instead.\n",
        "\n",
        "**Purpose:**  \n",
        "Before fitting time-varying models, the dataset must be:\n",
        "- Free from null values\n",
        "- Structured correctly with relevant columns only (`start`, `stop`, `event`, covariates)\n",
        "\n",
        "**Insight:**  \n",
        "While this step doesn’t generate a graph or model output, it ensures **data integrity**, which is **crucial for reliable modeling**. Cleaning prevents runtime errors and ensures that the event indicator used in modeling is unambiguous (`event`, not `Y`).\n"
      ],
      "metadata": {
        "id": "x3fBxMe9Hrf8"
      }
    },
    {
      "cell_type": "code",
      "source": [
        "from lifelines import CoxTimeVaryingFitter\n",
        "ctv=CoxTimeVaryingFitter()\n",
        "ctv.fit(df_timevarying,id_col='ID',event_col='event',start_col='start',stop_col='stop')\n",
        "ctv.print_summary()\n",
        "ctv.plot()\n",
        "plt.show()"
      ],
      "metadata": {
        "colab": {
          "base_uri": "https://localhost:8080/",
          "height": 1000
        },
        "id": "IvEmDDuXCZtz",
        "outputId": "112b56b8-701f-4e60-ea9f-ec2d2dbdac4c"
      },
      "execution_count": 55,
      "outputs": [
        {
          "output_type": "display_data",
          "data": {
            "text/plain": [
              "<lifelines.CoxTimeVaryingFitter: fitted with 128 periods, 128 subjects, 128 events>\n",
              "         event col = 'event'\n",
              "number of subjects = 128\n",
              " number of periods = 128\n",
              "  number of events = 128\n",
              "partial log-likelihood = -465.24\n",
              "  time fit was run = 2025-06-06 16:50:18 UTC\n",
              "\n",
              "---\n",
              "                    coef exp(coef)  se(coef)  coef lower 95%  coef upper 95% exp(coef) lower 95% exp(coef) upper 95%\n",
              "covariate                                                                                                           \n",
              "karno              -0.03      0.97      0.01           -0.05           -0.02                0.96                0.98\n",
              "diagtime           -0.00      1.00      0.01           -0.02            0.01                0.98                1.01\n",
              "age                -0.01      0.99      0.01           -0.03            0.00                0.97                1.00\n",
              "trt_test            0.36      1.44      0.21           -0.05            0.77                0.95                2.17\n",
              "celltype_large     -0.80      0.45      0.30           -1.38           -0.21                0.25                0.81\n",
              "celltype_smallcell -0.18      0.84      0.28           -0.72            0.36                0.49                1.44\n",
              "celltype_squamous  -1.10      0.33      0.30           -1.68           -0.51                0.19                0.60\n",
              "priortherapy_yes    0.18      1.19      0.23           -0.28            0.63                0.76                1.88\n",
              "\n",
              "                    cmp to     z      p  -log2(p)\n",
              "covariate                                        \n",
              "karno                 0.00 -6.07 <0.005     29.52\n",
              "diagtime              0.00 -0.45   0.65      0.61\n",
              "age                   0.00 -1.53   0.12      3.00\n",
              "trt_test              0.00  1.72   0.08      3.56\n",
              "celltype_large        0.00 -2.65   0.01      6.95\n",
              "celltype_smallcell    0.00 -0.65   0.52      0.96\n",
              "celltype_squamous     0.00 -3.66 <0.005     11.94\n",
              "priortherapy_yes      0.00  0.76   0.45      1.17\n",
              "---\n",
              "Partial AIC = 946.47\n",
              "log-likelihood ratio test = 62.34 on 8 df\n",
              "-log2(p) of ll-ratio test = 32.53"
            ],
            "text/html": [
              "<div>\n",
              "<style scoped>\n",
              "    .dataframe tbody tr th:only-of-type {\n",
              "        vertical-align: middle;\n",
              "    }\n",
              "\n",
              "    .dataframe tbody tr th {\n",
              "        vertical-align: top;\n",
              "    }\n",
              "\n",
              "    .dataframe thead th {\n",
              "        text-align: right;\n",
              "    }\n",
              "</style>\n",
              "<table border=\"1\" class=\"dataframe\">\n",
              "  <tbody>\n",
              "    <tr>\n",
              "      <th>model</th>\n",
              "      <td>lifelines.CoxTimeVaryingFitter</td>\n",
              "    </tr>\n",
              "    <tr>\n",
              "      <th>event col</th>\n",
              "      <td>'event'</td>\n",
              "    </tr>\n",
              "    <tr>\n",
              "      <th>number of subjects</th>\n",
              "      <td>128</td>\n",
              "    </tr>\n",
              "    <tr>\n",
              "      <th>number of periods</th>\n",
              "      <td>128</td>\n",
              "    </tr>\n",
              "    <tr>\n",
              "      <th>number of events</th>\n",
              "      <td>128</td>\n",
              "    </tr>\n",
              "    <tr>\n",
              "      <th>partial log-likelihood</th>\n",
              "      <td>-465.24</td>\n",
              "    </tr>\n",
              "    <tr>\n",
              "      <th>time fit was run</th>\n",
              "      <td>2025-06-06 16:50:18 UTC</td>\n",
              "    </tr>\n",
              "  </tbody>\n",
              "</table>\n",
              "</div><table border=\"1\" class=\"dataframe\">\n",
              "  <thead>\n",
              "    <tr style=\"text-align: right;\">\n",
              "      <th style=\"min-width: 12px;\"></th>\n",
              "      <th style=\"min-width: 12px;\">coef</th>\n",
              "      <th style=\"min-width: 12px;\">exp(coef)</th>\n",
              "      <th style=\"min-width: 12px;\">se(coef)</th>\n",
              "      <th style=\"min-width: 12px;\">coef lower 95%</th>\n",
              "      <th style=\"min-width: 12px;\">coef upper 95%</th>\n",
              "      <th style=\"min-width: 12px;\">exp(coef) lower 95%</th>\n",
              "      <th style=\"min-width: 12px;\">exp(coef) upper 95%</th>\n",
              "      <th style=\"min-width: 12px;\">cmp to</th>\n",
              "      <th style=\"min-width: 12px;\">z</th>\n",
              "      <th style=\"min-width: 12px;\">p</th>\n",
              "      <th style=\"min-width: 12px;\">-log2(p)</th>\n",
              "    </tr>\n",
              "  </thead>\n",
              "  <tbody>\n",
              "    <tr>\n",
              "      <th>karno</th>\n",
              "      <td>-0.03</td>\n",
              "      <td>0.97</td>\n",
              "      <td>0.01</td>\n",
              "      <td>-0.05</td>\n",
              "      <td>-0.02</td>\n",
              "      <td>0.96</td>\n",
              "      <td>0.98</td>\n",
              "      <td>0.00</td>\n",
              "      <td>-6.07</td>\n",
              "      <td>&lt;0.005</td>\n",
              "      <td>29.52</td>\n",
              "    </tr>\n",
              "    <tr>\n",
              "      <th>diagtime</th>\n",
              "      <td>-0.00</td>\n",
              "      <td>1.00</td>\n",
              "      <td>0.01</td>\n",
              "      <td>-0.02</td>\n",
              "      <td>0.01</td>\n",
              "      <td>0.98</td>\n",
              "      <td>1.01</td>\n",
              "      <td>0.00</td>\n",
              "      <td>-0.45</td>\n",
              "      <td>0.65</td>\n",
              "      <td>0.61</td>\n",
              "    </tr>\n",
              "    <tr>\n",
              "      <th>age</th>\n",
              "      <td>-0.01</td>\n",
              "      <td>0.99</td>\n",
              "      <td>0.01</td>\n",
              "      <td>-0.03</td>\n",
              "      <td>0.00</td>\n",
              "      <td>0.97</td>\n",
              "      <td>1.00</td>\n",
              "      <td>0.00</td>\n",
              "      <td>-1.53</td>\n",
              "      <td>0.12</td>\n",
              "      <td>3.00</td>\n",
              "    </tr>\n",
              "    <tr>\n",
              "      <th>trt_test</th>\n",
              "      <td>0.36</td>\n",
              "      <td>1.44</td>\n",
              "      <td>0.21</td>\n",
              "      <td>-0.05</td>\n",
              "      <td>0.77</td>\n",
              "      <td>0.95</td>\n",
              "      <td>2.17</td>\n",
              "      <td>0.00</td>\n",
              "      <td>1.72</td>\n",
              "      <td>0.08</td>\n",
              "      <td>3.56</td>\n",
              "    </tr>\n",
              "    <tr>\n",
              "      <th>celltype_large</th>\n",
              "      <td>-0.80</td>\n",
              "      <td>0.45</td>\n",
              "      <td>0.30</td>\n",
              "      <td>-1.38</td>\n",
              "      <td>-0.21</td>\n",
              "      <td>0.25</td>\n",
              "      <td>0.81</td>\n",
              "      <td>0.00</td>\n",
              "      <td>-2.65</td>\n",
              "      <td>0.01</td>\n",
              "      <td>6.95</td>\n",
              "    </tr>\n",
              "    <tr>\n",
              "      <th>celltype_smallcell</th>\n",
              "      <td>-0.18</td>\n",
              "      <td>0.84</td>\n",
              "      <td>0.28</td>\n",
              "      <td>-0.72</td>\n",
              "      <td>0.36</td>\n",
              "      <td>0.49</td>\n",
              "      <td>1.44</td>\n",
              "      <td>0.00</td>\n",
              "      <td>-0.65</td>\n",
              "      <td>0.52</td>\n",
              "      <td>0.96</td>\n",
              "    </tr>\n",
              "    <tr>\n",
              "      <th>celltype_squamous</th>\n",
              "      <td>-1.10</td>\n",
              "      <td>0.33</td>\n",
              "      <td>0.30</td>\n",
              "      <td>-1.68</td>\n",
              "      <td>-0.51</td>\n",
              "      <td>0.19</td>\n",
              "      <td>0.60</td>\n",
              "      <td>0.00</td>\n",
              "      <td>-3.66</td>\n",
              "      <td>&lt;0.005</td>\n",
              "      <td>11.94</td>\n",
              "    </tr>\n",
              "    <tr>\n",
              "      <th>priortherapy_yes</th>\n",
              "      <td>0.18</td>\n",
              "      <td>1.19</td>\n",
              "      <td>0.23</td>\n",
              "      <td>-0.28</td>\n",
              "      <td>0.63</td>\n",
              "      <td>0.76</td>\n",
              "      <td>1.88</td>\n",
              "      <td>0.00</td>\n",
              "      <td>0.76</td>\n",
              "      <td>0.45</td>\n",
              "      <td>1.17</td>\n",
              "    </tr>\n",
              "  </tbody>\n",
              "</table><br><div>\n",
              "<style scoped>\n",
              "    .dataframe tbody tr th:only-of-type {\n",
              "        vertical-align: middle;\n",
              "    }\n",
              "\n",
              "    .dataframe tbody tr th {\n",
              "        vertical-align: top;\n",
              "    }\n",
              "\n",
              "    .dataframe thead th {\n",
              "        text-align: right;\n",
              "    }\n",
              "</style>\n",
              "<table border=\"1\" class=\"dataframe\">\n",
              "  <tbody>\n",
              "    <tr>\n",
              "      <th>Partial AIC</th>\n",
              "      <td>946.47</td>\n",
              "    </tr>\n",
              "    <tr>\n",
              "      <th>log-likelihood ratio test</th>\n",
              "      <td>62.34 on 8 df</td>\n",
              "    </tr>\n",
              "    <tr>\n",
              "      <th>-log2(p) of ll-ratio test</th>\n",
              "      <td>32.53</td>\n",
              "    </tr>\n",
              "  </tbody>\n",
              "</table>\n",
              "</div>"
            ],
            "text/latex": "\\begin{tabular}{lrrrrrrrrrrr}\n & coef & exp(coef) & se(coef) & coef lower 95% & coef upper 95% & exp(coef) lower 95% & exp(coef) upper 95% & cmp to & z & p & -log2(p) \\\\\ncovariate &  &  &  &  &  &  &  &  &  &  &  \\\\\nkarno & -0.03 & 0.97 & 0.01 & -0.05 & -0.02 & 0.96 & 0.98 & 0.00 & -6.07 & 0.00 & 29.52 \\\\\ndiagtime & -0.00 & 1.00 & 0.01 & -0.02 & 0.01 & 0.98 & 1.01 & 0.00 & -0.45 & 0.65 & 0.61 \\\\\nage & -0.01 & 0.99 & 0.01 & -0.03 & 0.00 & 0.97 & 1.00 & 0.00 & -1.53 & 0.12 & 3.00 \\\\\ntrt_test & 0.36 & 1.44 & 0.21 & -0.05 & 0.77 & 0.95 & 2.17 & 0.00 & 1.72 & 0.08 & 3.56 \\\\\ncelltype_large & -0.80 & 0.45 & 0.30 & -1.38 & -0.21 & 0.25 & 0.81 & 0.00 & -2.65 & 0.01 & 6.95 \\\\\ncelltype_smallcell & -0.18 & 0.84 & 0.28 & -0.72 & 0.36 & 0.49 & 1.44 & 0.00 & -0.65 & 0.52 & 0.96 \\\\\ncelltype_squamous & -1.10 & 0.33 & 0.30 & -1.68 & -0.51 & 0.19 & 0.60 & 0.00 & -3.66 & 0.00 & 11.94 \\\\\npriortherapy_yes & 0.18 & 1.19 & 0.23 & -0.28 & 0.63 & 0.76 & 1.88 & 0.00 & 0.76 & 0.45 & 1.17 \\\\\n\\end{tabular}\n"
          },
          "metadata": {}
        },
        {
          "output_type": "display_data",
          "data": {
            "text/plain": [
              "<Figure size 640x480 with 1 Axes>"
            ],
            "image/png": "[encoded data removed]"
          },
          "metadata": {}
        }
      ]
    },
    {
      "cell_type": "markdown",
      "source": [
        "### Time-Varying Cox Model Fitting and Visualization\n",
        "\n",
        "**Explanation:**  \n",
        "This step fits a time-varying Cox proportional hazards model to analyze how dynamic covariates affect the risk of an event over different time intervals.\n",
        "\n",
        "#### Actions performed:\n",
        "- `CoxTimeVaryingFitter().fit(df_timevarying, id_col='ID', event_col='event', start_col='start', stop_col='stop')`: Fits the model using appropriate columns for subject ID, event occurrence, and time intervals.\n",
        "- `ctv.print_summary()`: Displays model coefficients, p-values, and confidence intervals for covariates.\n",
        "- `ctv.plot()`: Visualizes log hazard ratios of each covariate to assess direction and magnitude of risk.\n",
        "- `plt.show()`: Ensures the plot is rendered correctly in Colab.\n",
        "\n",
        "**Purpose:**  \n",
        "To build and interpret a survival model with covariates that vary over time. This allows:\n",
        "- Capturing the changing influence of features on event risk\n",
        "- Identifying statistically significant predictors over continuous follow-up\n",
        "\n",
        "**Insight:**  \n",
        "This modeling step provides both **quantitative** (coefficients and p-values) and **visual** (log hazard plots) outputs. It is crucial for uncovering how **time-dependent factors** drive survival outcomes and for communicating these effects clearly in longitudinal studies.\n"
      ],
      "metadata": {
        "id": "jVT69XhwIDmk"
      }
    },
    {
      "cell_type": "code",
      "source": [
        "plt.figure(figsize=(10, 6))\n",
        "for cell in df['celltype'].unique():\n",
        "    mask = df['celltype'] == cell\n",
        "    kmf.fit(df[mask]['TIME'], event_observed=df[mask]['Y'], label=cell)\n",
        "    kmf.plot_survival_function()\n",
        "\n",
        "plt.title('Kaplan-Meier Curve by Cell Type (Time-Varying)')\n",
        "plt.xlabel('Time')\n",
        "plt.ylabel('Survival Probability')\n",
        "plt.legend(title='Cell Type')\n",
        "plt.grid(True)\n",
        "plt.show()"
      ],
      "metadata": {
        "colab": {
          "base_uri": "https://localhost:8080/",
          "height": 564
        },
        "id": "HP0ptLG9CcFB",
        "outputId": "811b1728-befa-420b-e5bf-c14eddaf69d9"
      },
      "execution_count": 56,
      "outputs": [
        {
          "output_type": "display_data",
          "data": {
            "text/plain": [
              "<Figure size 1000x600 with 1 Axes>"
            ],
            "image/png": "[encoded data removed]"
          },
          "metadata": {}
        }
      ]
    },
    {
      "cell_type": "markdown",
      "source": [
        "### Kaplan-Meier Curve by Cell Type (Time-Varying)\n",
        "\n",
        "**Explanation:**  \n",
        "This step visualizes the survival probabilities across different cell types using the Kaplan-Meier estimator, helping compare survival behavior among groups.\n",
        "\n",
        "#### Actions performed:\n",
        "- `plt.figure(figsize=(10, 6))`: Sets the size of the plot for better readability.\n",
        "- Loop over `df['celltype'].unique()`: Iterates through each unique cell type.\n",
        "- `kmf.fit(...)`: Fits the Kaplan-Meier model separately for each cell type using survival time (`TIME`) and event indicator (`Y`).\n",
        "- `kmf.plot_survival_function()`: Plots the survival function for each group on the same axes.\n",
        "- Additional formatting: Adds title, axis labels, legend, and grid for clarity.\n",
        "- `plt.show()`: Displays the final plot inline.\n",
        "\n",
        "**Purpose:**  \n",
        "To visually compare how different **cell types** affect survival over time, providing:\n",
        "- An intuitive view of survival curves\n",
        "- Insight into whether certain groups experience faster or slower decline in survival\n",
        "\n",
        "**Insight:**  \n",
        "The Kaplan-Meier curves offer a **non-parametric view** of survival across categories. Clear separation between curves can indicate meaningful group differences, which may later be confirmed or refined using formal modeling like Cox regression.\n"
      ],
      "metadata": {
        "id": "vc6CmYopImg7"
      }
    },
    {
      "cell_type": "code",
      "source": [
        "group1 = df[df['celltype'] == 'squamous']\n",
        "group2 = df[df['celltype'] == 'smallcell']\n",
        "\n",
        "results = logrank_test(group1['TIME'], group2['TIME'],\n",
        "                       event_observed_A=group1['Y'], event_observed_B=group2['Y'])\n",
        "results.print_summary()"
      ],
      "metadata": {
        "colab": {
          "base_uri": "https://localhost:8080/",
          "height": 206
        },
        "id": "aiOIrkwTCeOa",
        "outputId": "a374cff0-542d-44f5-9e4e-ddc00ea36188"
      },
      "execution_count": 57,
      "outputs": [
        {
          "output_type": "display_data",
          "data": {
            "text/plain": [
              "<lifelines.StatisticalResult: logrank_test>\n",
              "               t_0 = -1\n",
              " null_distribution = chi squared\n",
              "degrees_of_freedom = 1\n",
              "         test_name = logrank_test\n",
              "\n",
              "---\n",
              " test_statistic      p  -log2(p)\n",
              "          11.57 <0.005     10.55"
            ],
            "text/html": [
              "<div>\n",
              "<style scoped>\n",
              "    .dataframe tbody tr th:only-of-type {\n",
              "        vertical-align: middle;\n",
              "    }\n",
              "\n",
              "    .dataframe tbody tr th {\n",
              "        vertical-align: top;\n",
              "    }\n",
              "\n",
              "    .dataframe thead th {\n",
              "        text-align: right;\n",
              "    }\n",
              "</style>\n",
              "<table border=\"1\" class=\"dataframe\">\n",
              "  <tbody>\n",
              "    <tr>\n",
              "      <th>t_0</th>\n",
              "      <td>-1</td>\n",
              "    </tr>\n",
              "    <tr>\n",
              "      <th>null_distribution</th>\n",
              "      <td>chi squared</td>\n",
              "    </tr>\n",
              "    <tr>\n",
              "      <th>degrees_of_freedom</th>\n",
              "      <td>1</td>\n",
              "    </tr>\n",
              "    <tr>\n",
              "      <th>test_name</th>\n",
              "      <td>logrank_test</td>\n",
              "    </tr>\n",
              "  </tbody>\n",
              "</table>\n",
              "</div><table border=\"1\" class=\"dataframe\">\n",
              "  <thead>\n",
              "    <tr style=\"text-align: right;\">\n",
              "      <th></th>\n",
              "      <th>test_statistic</th>\n",
              "      <th>p</th>\n",
              "      <th>-log2(p)</th>\n",
              "    </tr>\n",
              "  </thead>\n",
              "  <tbody>\n",
              "    <tr>\n",
              "      <th>0</th>\n",
              "      <td>11.57</td>\n",
              "      <td>&lt;0.005</td>\n",
              "      <td>10.55</td>\n",
              "    </tr>\n",
              "  </tbody>\n",
              "</table>"
            ],
            "text/latex": "\\begin{tabular}{lrrr}\n & test_statistic & p & -log2(p) \\\\\n0 & 11.57 & 0.00 & 10.55 \\\\\n\\end{tabular}\n"
          },
          "metadata": {}
        }
      ]
    },
    {
      "cell_type": "markdown",
      "source": [
        "### Log-Rank Test Between Squamous and Smallcell\n",
        "\n",
        "**Explanation:**  \n",
        "Compares survival distributions between squamous and smallcell groups.\n",
        "\n",
        "#### Actions performed:\n",
        "- Subsets the data by cell type (`squamous`, `smallcell`)\n",
        "- Performs `logrank_test(...)` to compare survival curves\n",
        "- Prints test result with `results.print_summary()`\n",
        "\n",
        "**Purpose:**  \n",
        "To check if survival differences between the two groups are statistically significant.\n",
        "\n",
        "**Insight:**  \n",
        "A low p-value suggests a meaningful difference in survival between the cell types.\n"
      ],
      "metadata": {
        "id": "XRMAhhB2I_cm"
      }
    },
    {
      "cell_type": "code",
      "source": [
        "from lifelines import KaplanMeierFitter\n",
        "\n",
        "# Step 1: Simulate competing risks data\n",
        "df_cr = df.copy()\n",
        "np.random.seed(42)\n",
        "df_cr['event_type'] = np.where(np.random.rand(len(df_cr)) > 0.7, 2, 1)  # 1 = death, 2 = other event\n",
        "df_cr['event_occurred'] = df_cr['event_type'] != 0"
      ],
      "metadata": {
        "id": "OmNJ4ieDEPBY"
      },
      "execution_count": 58,
      "outputs": []
    },
    {
      "cell_type": "markdown",
      "source": [
        "### Simulating Competing Risks Data\n",
        "\n",
        "**Explanation:**  \n",
        "This step simulates a competing risks scenario by creating an artificial event type column.\n",
        "\n",
        "#### Actions performed:\n",
        "- Copies the original DataFrame to `df_cr`\n",
        "- Randomly assigns `event_type`:  \n",
        "  - `1` = death  \n",
        "  - `2` = other event\n",
        "- Creates a boolean `event_occurred` column\n",
        "\n",
        "**Purpose:**  \n",
        "To prepare a synthetic dataset suitable for modeling **competing risks**, where more than one type of event can occur.\n",
        "\n",
        "**Insight:**  \n",
        "This is a setup step to mimic real-world survival data with **multiple event types**, enabling later use of cumulative incidence functions.\n"
      ],
      "metadata": {
        "id": "mPGixoKPJDEZ"
      }
    },
    {
      "cell_type": "code",
      "source": [
        "# Step 2: Separate datasets for each event type\n",
        "df_event1 = df_cr.copy()\n",
        "df_event1['event_observed'] = (df_event1['event_type'] == 1).astype(int)\n",
        "\n",
        "df_event2 = df_cr.copy()\n",
        "df_event2['event_observed'] = (df_event2['event_type'] == 2).astype(int)"
      ],
      "metadata": {
        "id": "SbgoWS8nERT5"
      },
      "execution_count": 59,
      "outputs": []
    },
    {
      "cell_type": "markdown",
      "source": [
        "### Creating Event-Specific Datasets for Competing Risks\n",
        "\n",
        "**Explanation:**  \n",
        "Separates the dataset based on event types to prepare for cumulative incidence analysis.\n",
        "\n",
        "#### Actions performed:\n",
        "- Creates `df_event1`: marks `event_type == 1` as observed\n",
        "- Creates `df_event2`: marks `event_type == 2` as observed\n",
        "\n",
        "**Purpose:**  \n",
        "To prepare individual datasets for estimating survival or incidence curves **per event type**.\n",
        "\n",
        "**Insight:**  \n",
        "This step enables independent analysis of each competing risk in later modeling or plotting.\n"
      ],
      "metadata": {
        "id": "0U3s4poDJGSd"
      }
    },
    {
      "cell_type": "code",
      "source": [
        "# Step 3: Compute cumulative incidence curves\n",
        "kmf1 = KaplanMeierFitter()\n",
        "kmf1.fit(durations=df_event1['TIME'], event_observed=df_event1['event_observed'], label='Death (Event 1)')\n",
        "cum_inc1 = 1 - kmf1.survival_function_\n",
        "\n",
        "kmf2 = KaplanMeierFitter()\n",
        "kmf2.fit(durations=df_event2['TIME'], event_observed=df_event2['event_observed'], label='Other Event (Event 2)')\n",
        "cum_inc2 = 1 - kmf2.survival_function_"
      ],
      "metadata": {
        "id": "tUinFIt1EUrL"
      },
      "execution_count": 60,
      "outputs": []
    },
    {
      "cell_type": "markdown",
      "source": [
        "### Computing Cumulative Incidence Curves for Competing Risks\n",
        "\n",
        "**Explanation:**  \n",
        "Estimates cumulative incidence curves for each event type using Kaplan-Meier survival estimates.\n",
        "\n",
        "#### Actions performed:\n",
        "- Fits Kaplan-Meier model for **Death (Event 1)** and computes cumulative incidence as `1 - survival`.\n",
        "- Fits Kaplan-Meier model for **Other Event (Event 2)** similarly.\n",
        "\n",
        "**Purpose:**  \n",
        "To estimate the probability of occurrence over time for each competing event type.\n",
        "\n",
        "**Insight:**  \n",
        "Although Kaplan-Meier assumes a single event type, this approximation provides a basic view of competing risks before applying more specialized methods.\n"
      ],
      "metadata": {
        "id": "mJVPMqSLJOOt"
      }
    },
    {
      "cell_type": "code",
      "source": [
        "# Step 4: Plot cumulative incidence curves\n",
        "plt.figure(figsize=(10,6))\n",
        "plt.plot(cum_inc1, label='Cumulative Incidence: Death (Event 1)', color='blue')\n",
        "plt.plot(cum_inc2, label='Cumulative Incidence: Other Event (Event 2)', color='red')\n",
        "plt.title(\"Cumulative Incidence Function for Competing Risks\")\n",
        "plt.xlabel(\"Time\")\n",
        "plt.ylabel(\"Cumulative Incidence\")\n",
        "plt.legend()\n",
        "plt.grid(True)\n",
        "plt.show()"
      ],
      "metadata": {
        "colab": {
          "base_uri": "https://localhost:8080/",
          "height": 564
        },
        "id": "Jgu0xB5VEXMV",
        "outputId": "74f154a7-5745-4772-fac2-83deea697919"
      },
      "execution_count": 61,
      "outputs": [
        {
          "output_type": "display_data",
          "data": {
            "text/plain": [
              "<Figure size 1000x600 with 1 Axes>"
            ],
            "image/png": "[encoded data removed]"
          },
          "metadata": {}
        }
      ]
    },
    {
      "cell_type": "markdown",
      "source": [
        "### Plotting Cumulative Incidence Curves for Competing Risks\n",
        "\n",
        "**Explanation:**  \n",
        "Visualizes the cumulative incidence functions for two competing events over time.\n",
        "\n",
        "#### Actions performed:\n",
        "- Plots cumulative incidence curves for:\n",
        "  - Death (Event 1) in blue\n",
        "  - Other Event (Event 2) in red\n",
        "- Adds title, axis labels, legend, and grid for clarity\n",
        "- Displays the plot inline\n",
        "\n",
        "**Purpose:**  \n",
        "To compare the risk of each event type occurring over time in a competing risks setting.\n",
        "\n",
        "**Insight:**  \n",
        "The plot provides an intuitive visual summary of how different event probabilities evolve, highlighting the presence and timing of competing risks.\n"
      ],
      "metadata": {
        "id": "_4u9X7x1JRe1"
      }
    }
  ]
}